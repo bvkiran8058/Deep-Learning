{
  "cells": [
    {
      "cell_type": "markdown",
      "metadata": {
        "id": "view-in-github",
        "colab_type": "text"
      },
      "source": [
        "<a href=\"https://colab.research.google.com/github/bvkiran8058/Deep-Learning/blob/main/AQI_linear_regression.ipynb\" target=\"_parent\"><img src=\"https://colab.research.google.com/assets/colab-badge.svg\" alt=\"Open In Colab\"/></a>"
      ]
    },
    {
      "cell_type": "code",
      "execution_count": null,
      "metadata": {
        "id": "zBqln1zsDaje",
        "outputId": "64498ced-9b10-45c1-e083-af7d19ddf27a"
      },
      "outputs": [
        {
          "data": {
            "text/plain": [
              "'2.18.0'"
            ]
          },
          "execution_count": 1,
          "metadata": {},
          "output_type": "execute_result"
        }
      ],
      "source": [
        "import pandas as pd\n",
        "import numpy as np\n",
        "import matplotlib.pyplot as plt\n",
        "import seaborn as sns\n",
        "import tensorflow as tf\n",
        "%matplotlib inline\n",
        "tf.__version__"
      ]
    },
    {
      "cell_type": "code",
      "execution_count": null,
      "metadata": {
        "id": "SZlw9B4iDajm",
        "outputId": "028360b3-439e-4587-c001-4bd6ddb31353"
      },
      "outputs": [
        {
          "data": {
            "text/html": [
              "<div>\n",
              "<style scoped>\n",
              "    .dataframe tbody tr th:only-of-type {\n",
              "        vertical-align: middle;\n",
              "    }\n",
              "\n",
              "    .dataframe tbody tr th {\n",
              "        vertical-align: top;\n",
              "    }\n",
              "\n",
              "    .dataframe thead th {\n",
              "        text-align: right;\n",
              "    }\n",
              "</style>\n",
              "<table border=\"1\" class=\"dataframe\">\n",
              "  <thead>\n",
              "    <tr style=\"text-align: right;\">\n",
              "      <th></th>\n",
              "      <th>City</th>\n",
              "      <th>Date</th>\n",
              "      <th>PM2.5</th>\n",
              "      <th>PM10</th>\n",
              "      <th>NO</th>\n",
              "      <th>NO2</th>\n",
              "      <th>NOx</th>\n",
              "      <th>NH3</th>\n",
              "      <th>CO</th>\n",
              "      <th>SO2</th>\n",
              "      <th>O3</th>\n",
              "      <th>Benzene</th>\n",
              "      <th>Toluene</th>\n",
              "      <th>Xylene</th>\n",
              "      <th>AQI</th>\n",
              "      <th>AQI_Bucket</th>\n",
              "    </tr>\n",
              "  </thead>\n",
              "  <tbody>\n",
              "    <tr>\n",
              "      <th>0</th>\n",
              "      <td>Ahmedabad</td>\n",
              "      <td>2015-01-01</td>\n",
              "      <td>NaN</td>\n",
              "      <td>NaN</td>\n",
              "      <td>0.92</td>\n",
              "      <td>18.22</td>\n",
              "      <td>17.15</td>\n",
              "      <td>NaN</td>\n",
              "      <td>0.92</td>\n",
              "      <td>27.64</td>\n",
              "      <td>133.36</td>\n",
              "      <td>0.00</td>\n",
              "      <td>0.02</td>\n",
              "      <td>0.00</td>\n",
              "      <td>NaN</td>\n",
              "      <td>NaN</td>\n",
              "    </tr>\n",
              "    <tr>\n",
              "      <th>1</th>\n",
              "      <td>Ahmedabad</td>\n",
              "      <td>2015-01-02</td>\n",
              "      <td>NaN</td>\n",
              "      <td>NaN</td>\n",
              "      <td>0.97</td>\n",
              "      <td>15.69</td>\n",
              "      <td>16.46</td>\n",
              "      <td>NaN</td>\n",
              "      <td>0.97</td>\n",
              "      <td>24.55</td>\n",
              "      <td>34.06</td>\n",
              "      <td>3.68</td>\n",
              "      <td>5.50</td>\n",
              "      <td>3.77</td>\n",
              "      <td>NaN</td>\n",
              "      <td>NaN</td>\n",
              "    </tr>\n",
              "    <tr>\n",
              "      <th>2</th>\n",
              "      <td>Ahmedabad</td>\n",
              "      <td>2015-01-03</td>\n",
              "      <td>NaN</td>\n",
              "      <td>NaN</td>\n",
              "      <td>17.40</td>\n",
              "      <td>19.30</td>\n",
              "      <td>29.70</td>\n",
              "      <td>NaN</td>\n",
              "      <td>17.40</td>\n",
              "      <td>29.07</td>\n",
              "      <td>30.70</td>\n",
              "      <td>6.80</td>\n",
              "      <td>16.40</td>\n",
              "      <td>2.25</td>\n",
              "      <td>NaN</td>\n",
              "      <td>NaN</td>\n",
              "    </tr>\n",
              "    <tr>\n",
              "      <th>3</th>\n",
              "      <td>Ahmedabad</td>\n",
              "      <td>2015-01-04</td>\n",
              "      <td>NaN</td>\n",
              "      <td>NaN</td>\n",
              "      <td>1.70</td>\n",
              "      <td>18.48</td>\n",
              "      <td>17.97</td>\n",
              "      <td>NaN</td>\n",
              "      <td>1.70</td>\n",
              "      <td>18.59</td>\n",
              "      <td>36.08</td>\n",
              "      <td>4.43</td>\n",
              "      <td>10.14</td>\n",
              "      <td>1.00</td>\n",
              "      <td>NaN</td>\n",
              "      <td>NaN</td>\n",
              "    </tr>\n",
              "    <tr>\n",
              "      <th>4</th>\n",
              "      <td>Ahmedabad</td>\n",
              "      <td>2015-01-05</td>\n",
              "      <td>NaN</td>\n",
              "      <td>NaN</td>\n",
              "      <td>22.10</td>\n",
              "      <td>21.42</td>\n",
              "      <td>37.76</td>\n",
              "      <td>NaN</td>\n",
              "      <td>22.10</td>\n",
              "      <td>39.33</td>\n",
              "      <td>39.31</td>\n",
              "      <td>7.01</td>\n",
              "      <td>18.89</td>\n",
              "      <td>2.78</td>\n",
              "      <td>NaN</td>\n",
              "      <td>NaN</td>\n",
              "    </tr>\n",
              "  </tbody>\n",
              "</table>\n",
              "</div>"
            ],
            "text/plain": [
              "        City        Date  PM2.5  PM10     NO    NO2    NOx  NH3     CO    SO2  \\\n",
              "0  Ahmedabad  2015-01-01    NaN   NaN   0.92  18.22  17.15  NaN   0.92  27.64   \n",
              "1  Ahmedabad  2015-01-02    NaN   NaN   0.97  15.69  16.46  NaN   0.97  24.55   \n",
              "2  Ahmedabad  2015-01-03    NaN   NaN  17.40  19.30  29.70  NaN  17.40  29.07   \n",
              "3  Ahmedabad  2015-01-04    NaN   NaN   1.70  18.48  17.97  NaN   1.70  18.59   \n",
              "4  Ahmedabad  2015-01-05    NaN   NaN  22.10  21.42  37.76  NaN  22.10  39.33   \n",
              "\n",
              "       O3  Benzene  Toluene  Xylene  AQI AQI_Bucket  \n",
              "0  133.36     0.00     0.02    0.00  NaN        NaN  \n",
              "1   34.06     3.68     5.50    3.77  NaN        NaN  \n",
              "2   30.70     6.80    16.40    2.25  NaN        NaN  \n",
              "3   36.08     4.43    10.14    1.00  NaN        NaN  \n",
              "4   39.31     7.01    18.89    2.78  NaN        NaN  "
            ]
          },
          "execution_count": 2,
          "metadata": {},
          "output_type": "execute_result"
        }
      ],
      "source": [
        "air_index = pd.read_csv(r\"Datasets\\city_day.csv\")\n",
        "air_index.head()"
      ]
    },
    {
      "cell_type": "code",
      "execution_count": null,
      "metadata": {
        "id": "yHKFDpSpDajo",
        "outputId": "b01e1d0e-fedd-482e-fc10-301401f65d75"
      },
      "outputs": [
        {
          "name": "stdout",
          "output_type": "stream",
          "text": [
            "<class 'pandas.core.frame.DataFrame'>\n",
            "RangeIndex: 29531 entries, 0 to 29530\n",
            "Data columns (total 16 columns):\n",
            " #   Column      Non-Null Count  Dtype  \n",
            "---  ------      --------------  -----  \n",
            " 0   City        29531 non-null  object \n",
            " 1   Date        29531 non-null  object \n",
            " 2   PM2.5       24933 non-null  float64\n",
            " 3   PM10        18391 non-null  float64\n",
            " 4   NO          25949 non-null  float64\n",
            " 5   NO2         25946 non-null  float64\n",
            " 6   NOx         25346 non-null  float64\n",
            " 7   NH3         19203 non-null  float64\n",
            " 8   CO          27472 non-null  float64\n",
            " 9   SO2         25677 non-null  float64\n",
            " 10  O3          25509 non-null  float64\n",
            " 11  Benzene     23908 non-null  float64\n",
            " 12  Toluene     21490 non-null  float64\n",
            " 13  Xylene      11422 non-null  float64\n",
            " 14  AQI         24850 non-null  float64\n",
            " 15  AQI_Bucket  24850 non-null  object \n",
            "dtypes: float64(13), object(3)\n",
            "memory usage: 3.6+ MB\n"
          ]
        }
      ],
      "source": [
        "air_index.info()"
      ]
    },
    {
      "cell_type": "code",
      "execution_count": null,
      "metadata": {
        "id": "kHR2Uq-YDajp",
        "outputId": "fe6497d8-5547-433c-f270-48d24e114b0b"
      },
      "outputs": [
        {
          "data": {
            "text/plain": [
              "City              0\n",
              "Date              0\n",
              "PM2.5          4598\n",
              "PM10          11140\n",
              "NO             3582\n",
              "NO2            3585\n",
              "NOx            4185\n",
              "NH3           10328\n",
              "CO             2059\n",
              "SO2            3854\n",
              "O3             4022\n",
              "Benzene        5623\n",
              "Toluene        8041\n",
              "Xylene        18109\n",
              "AQI            4681\n",
              "AQI_Bucket     4681\n",
              "dtype: int64"
            ]
          },
          "execution_count": 4,
          "metadata": {},
          "output_type": "execute_result"
        }
      ],
      "source": [
        "air_index.isnull().sum()"
      ]
    },
    {
      "cell_type": "code",
      "execution_count": null,
      "metadata": {
        "id": "VZbXqg-4Dajq",
        "outputId": "a779497c-2994-49a6-c34b-5454b8cadb8c"
      },
      "outputs": [
        {
          "data": {
            "text/plain": [
              "PM2.5      0.659181\n",
              "PM10       0.803313\n",
              "NO         0.452191\n",
              "NO2        0.537071\n",
              "NOx        0.486450\n",
              "NH3        0.252019\n",
              "CO         0.683346\n",
              "SO2        0.490586\n",
              "O3         0.198991\n",
              "Benzene    0.044407\n",
              "Toluene    0.279992\n",
              "Xylene     0.165532\n",
              "AQI        1.000000\n",
              "Name: AQI, dtype: float64"
            ]
          },
          "execution_count": 5,
          "metadata": {},
          "output_type": "execute_result"
        }
      ],
      "source": [
        "air_index.corr(numeric_only= True)['AQI']"
      ]
    },
    {
      "cell_type": "code",
      "execution_count": null,
      "metadata": {
        "id": "eYAl3k-oDajq",
        "outputId": "6757c0bd-18c2-4f83-c7f1-17ffbea3e159"
      },
      "outputs": [
        {
          "data": {
            "text/plain": [
              "(['PM2.5', 'PM10', 'NO', 'NO2', 'NOx', 'NH3', 'CO', 'SO2', 'Toluene', 'AQI'],\n",
              " ['O3', 'Benzene', 'Xylene', 'Date'])"
            ]
          },
          "execution_count": 6,
          "metadata": {},
          "output_type": "execute_result"
        }
      ],
      "source": [
        "## Higly correlated columns with correlation greater than 2\n",
        "columns_lessthan_point_two = []\n",
        "columns_greaterthan_point_two = []\n",
        "for column, value in dict(air_index.corr(numeric_only=True)['AQI']).items():\n",
        "    if value > 0.2:\n",
        "        columns_greaterthan_point_two.append(column)\n",
        "    else:\n",
        "        columns_lessthan_point_two.append(column)\n",
        "columns_lessthan_point_two.append('Date') ## Added Date column to drop the Date column from the dataset\n",
        "columns_greaterthan_point_two, columns_lessthan_point_two"
      ]
    },
    {
      "cell_type": "code",
      "execution_count": null,
      "metadata": {
        "id": "2owfEUJeDajr",
        "outputId": "bfad0d5c-104d-4d42-905f-9e21cce6b46a"
      },
      "outputs": [
        {
          "name": "stdout",
          "output_type": "stream",
          "text": [
            "<class 'pandas.core.frame.DataFrame'>\n",
            "RangeIndex: 29531 entries, 0 to 29530\n",
            "Data columns (total 12 columns):\n",
            " #   Column      Non-Null Count  Dtype  \n",
            "---  ------      --------------  -----  \n",
            " 0   City        29531 non-null  object \n",
            " 1   PM2.5       24933 non-null  float64\n",
            " 2   PM10        18391 non-null  float64\n",
            " 3   NO          25949 non-null  float64\n",
            " 4   NO2         25946 non-null  float64\n",
            " 5   NOx         25346 non-null  float64\n",
            " 6   NH3         19203 non-null  float64\n",
            " 7   CO          27472 non-null  float64\n",
            " 8   SO2         25677 non-null  float64\n",
            " 9   Toluene     21490 non-null  float64\n",
            " 10  AQI         24850 non-null  float64\n",
            " 11  AQI_Bucket  24850 non-null  object \n",
            "dtypes: float64(10), object(2)\n",
            "memory usage: 2.7+ MB\n"
          ]
        }
      ],
      "source": [
        "air_index_corr = air_index.drop(columns= columns_lessthan_point_two, axis=1)\n",
        "air_index_corr.info()"
      ]
    },
    {
      "cell_type": "code",
      "execution_count": null,
      "metadata": {
        "id": "qyPmyRyXDajs",
        "outputId": "f9d978ac-601c-4020-faf1-16a9cb2bb6b8"
      },
      "outputs": [
        {
          "data": {
            "text/plain": [
              "City             0\n",
              "PM2.5          678\n",
              "PM10          7086\n",
              "NO             387\n",
              "NO2            391\n",
              "NOx           1857\n",
              "CO             445\n",
              "SO2            605\n",
              "Toluene       5826\n",
              "AQI              0\n",
              "AQI_Bucket       0\n",
              "dtype: int64"
            ]
          },
          "execution_count": 8,
          "metadata": {},
          "output_type": "execute_result"
        }
      ],
      "source": [
        "## since NH3 has low correlation with AQI dropping NH3 might not be a problem\n",
        "air_index_corr.drop(columns=['NH3'], axis=1, inplace= True)\n",
        "## We need the rows where AQI is available\n",
        "air_index_corr = air_index_corr.dropna(subset=['AQI'])\n",
        "air_index_corr.isnull().sum()"
      ]
    },
    {
      "cell_type": "markdown",
      "metadata": {
        "id": "bAlXwN_PDajs"
      },
      "source": [
        "#### Filling missing values for columns otherthan PM10 with mean or mode in both missing and train data"
      ]
    },
    {
      "cell_type": "code",
      "execution_count": null,
      "metadata": {
        "id": "PDqlA7weDajv",
        "outputId": "0a1dbc9b-6358-44d7-9286-587f66742376"
      },
      "outputs": [
        {
          "data": {
            "text/plain": [
              "City             0\n",
              "PM2.5            0\n",
              "PM10          7086\n",
              "NO               0\n",
              "NO2              0\n",
              "NOx              0\n",
              "CO               0\n",
              "SO2              0\n",
              "Toluene          0\n",
              "AQI              0\n",
              "AQI_Bucket       0\n",
              "dtype: int64"
            ]
          },
          "execution_count": 9,
          "metadata": {},
          "output_type": "execute_result"
        }
      ],
      "source": [
        "columns_mean = ['PM2.5', 'NO', 'NO2', 'NOx', 'CO', 'SO2', 'Toluene']\n",
        "for column in columns_mean:\n",
        "    air_index_corr[column] = air_index_corr[column].fillna(air_index_corr[column].mean())\n",
        "air_index_corr.isnull().sum()"
      ]
    },
    {
      "cell_type": "markdown",
      "metadata": {
        "id": "EXdQ9JgrDajw"
      },
      "source": [
        "#### Encoding City and AQI_Bucket columns"
      ]
    },
    {
      "cell_type": "code",
      "execution_count": null,
      "metadata": {
        "id": "iSMfGE5TDajx",
        "outputId": "bf612100-f7fc-455b-8b13-de9464ebbe9f"
      },
      "outputs": [
        {
          "data": {
            "text/html": [
              "<div>\n",
              "<style scoped>\n",
              "    .dataframe tbody tr th:only-of-type {\n",
              "        vertical-align: middle;\n",
              "    }\n",
              "\n",
              "    .dataframe tbody tr th {\n",
              "        vertical-align: top;\n",
              "    }\n",
              "\n",
              "    .dataframe thead th {\n",
              "        text-align: right;\n",
              "    }\n",
              "</style>\n",
              "<table border=\"1\" class=\"dataframe\">\n",
              "  <thead>\n",
              "    <tr style=\"text-align: right;\">\n",
              "      <th></th>\n",
              "      <th>City</th>\n",
              "      <th>PM2.5</th>\n",
              "      <th>PM10</th>\n",
              "      <th>NO</th>\n",
              "      <th>NO2</th>\n",
              "      <th>NOx</th>\n",
              "      <th>CO</th>\n",
              "      <th>SO2</th>\n",
              "      <th>Toluene</th>\n",
              "      <th>AQI</th>\n",
              "      <th>AQI_Bucket</th>\n",
              "    </tr>\n",
              "  </thead>\n",
              "  <tbody>\n",
              "    <tr>\n",
              "      <th>28</th>\n",
              "      <td>0</td>\n",
              "      <td>83.13</td>\n",
              "      <td>NaN</td>\n",
              "      <td>6.93</td>\n",
              "      <td>28.71</td>\n",
              "      <td>33.72</td>\n",
              "      <td>6.93</td>\n",
              "      <td>49.52</td>\n",
              "      <td>0.00</td>\n",
              "      <td>209.0</td>\n",
              "      <td>2</td>\n",
              "    </tr>\n",
              "    <tr>\n",
              "      <th>29</th>\n",
              "      <td>0</td>\n",
              "      <td>79.84</td>\n",
              "      <td>NaN</td>\n",
              "      <td>13.85</td>\n",
              "      <td>28.68</td>\n",
              "      <td>41.08</td>\n",
              "      <td>13.85</td>\n",
              "      <td>48.49</td>\n",
              "      <td>0.00</td>\n",
              "      <td>328.0</td>\n",
              "      <td>5</td>\n",
              "    </tr>\n",
              "    <tr>\n",
              "      <th>30</th>\n",
              "      <td>0</td>\n",
              "      <td>94.52</td>\n",
              "      <td>NaN</td>\n",
              "      <td>24.39</td>\n",
              "      <td>32.66</td>\n",
              "      <td>52.61</td>\n",
              "      <td>24.39</td>\n",
              "      <td>67.39</td>\n",
              "      <td>0.01</td>\n",
              "      <td>514.0</td>\n",
              "      <td>4</td>\n",
              "    </tr>\n",
              "    <tr>\n",
              "      <th>31</th>\n",
              "      <td>0</td>\n",
              "      <td>135.99</td>\n",
              "      <td>NaN</td>\n",
              "      <td>43.48</td>\n",
              "      <td>42.08</td>\n",
              "      <td>84.57</td>\n",
              "      <td>43.48</td>\n",
              "      <td>75.23</td>\n",
              "      <td>0.04</td>\n",
              "      <td>782.0</td>\n",
              "      <td>4</td>\n",
              "    </tr>\n",
              "    <tr>\n",
              "      <th>32</th>\n",
              "      <td>0</td>\n",
              "      <td>178.33</td>\n",
              "      <td>NaN</td>\n",
              "      <td>54.56</td>\n",
              "      <td>35.31</td>\n",
              "      <td>72.80</td>\n",
              "      <td>54.56</td>\n",
              "      <td>55.04</td>\n",
              "      <td>0.06</td>\n",
              "      <td>914.0</td>\n",
              "      <td>4</td>\n",
              "    </tr>\n",
              "  </tbody>\n",
              "</table>\n",
              "</div>"
            ],
            "text/plain": [
              "    City   PM2.5  PM10     NO    NO2    NOx     CO    SO2  Toluene    AQI  \\\n",
              "28     0   83.13   NaN   6.93  28.71  33.72   6.93  49.52     0.00  209.0   \n",
              "29     0   79.84   NaN  13.85  28.68  41.08  13.85  48.49     0.00  328.0   \n",
              "30     0   94.52   NaN  24.39  32.66  52.61  24.39  67.39     0.01  514.0   \n",
              "31     0  135.99   NaN  43.48  42.08  84.57  43.48  75.23     0.04  782.0   \n",
              "32     0  178.33   NaN  54.56  35.31  72.80  54.56  55.04     0.06  914.0   \n",
              "\n",
              "    AQI_Bucket  \n",
              "28           2  \n",
              "29           5  \n",
              "30           4  \n",
              "31           4  \n",
              "32           4  "
            ]
          },
          "execution_count": 10,
          "metadata": {},
          "output_type": "execute_result"
        }
      ],
      "source": [
        "from sklearn.preprocessing import LabelEncoder\n",
        "le = LabelEncoder()\n",
        "for column in ['City', 'AQI_Bucket']:\n",
        "    air_index_corr[column] = le.fit_transform(air_index_corr[column])\n",
        "air_index_corr.head()"
      ]
    },
    {
      "cell_type": "markdown",
      "metadata": {
        "id": "VSmb3lxwDajy"
      },
      "source": [
        "### PM10 has high correlation with AQI dropping not the correct way\n",
        "#### Building the model and fill the NAN values with predictions"
      ]
    },
    {
      "cell_type": "code",
      "execution_count": null,
      "metadata": {
        "id": "6u37qwo_Dajy",
        "outputId": "de00d0e4-3b59-4342-d3b0-f055bf16fe7c"
      },
      "outputs": [
        {
          "data": {
            "text/plain": [
              "((17764, 11), (7086, 11))"
            ]
          },
          "execution_count": 11,
          "metadata": {},
          "output_type": "execute_result"
        }
      ],
      "source": [
        "PM10_df_train = air_index_corr.dropna(subset=['PM10'])  # Rows where PM10 is available\n",
        "PM10_df_missing = air_index_corr[air_index_corr['PM10'].isna()]  # Rows where PM10 is missing\n",
        "PM10_df_train.shape, PM10_df_missing.shape"
      ]
    },
    {
      "cell_type": "code",
      "execution_count": null,
      "metadata": {
        "id": "hg36uY7gDajz",
        "outputId": "5a2451fb-a746-4310-ce49-52fcfb9a5fde"
      },
      "outputs": [
        {
          "data": {
            "text/html": [
              "<div>\n",
              "<style scoped>\n",
              "    .dataframe tbody tr th:only-of-type {\n",
              "        vertical-align: middle;\n",
              "    }\n",
              "\n",
              "    .dataframe tbody tr th {\n",
              "        vertical-align: top;\n",
              "    }\n",
              "\n",
              "    .dataframe thead th {\n",
              "        text-align: right;\n",
              "    }\n",
              "</style>\n",
              "<table border=\"1\" class=\"dataframe\">\n",
              "  <thead>\n",
              "    <tr style=\"text-align: right;\">\n",
              "      <th></th>\n",
              "      <th>City</th>\n",
              "      <th>PM2.5</th>\n",
              "      <th>PM10</th>\n",
              "      <th>NO</th>\n",
              "      <th>NO2</th>\n",
              "      <th>NOx</th>\n",
              "      <th>CO</th>\n",
              "      <th>SO2</th>\n",
              "      <th>Toluene</th>\n",
              "      <th>AQI</th>\n",
              "      <th>AQI_Bucket</th>\n",
              "    </tr>\n",
              "  </thead>\n",
              "  <tbody>\n",
              "    <tr>\n",
              "      <th>1595</th>\n",
              "      <td>0</td>\n",
              "      <td>37.55</td>\n",
              "      <td>122.41</td>\n",
              "      <td>15.08</td>\n",
              "      <td>85.12</td>\n",
              "      <td>58.72</td>\n",
              "      <td>15.08</td>\n",
              "      <td>163.01</td>\n",
              "      <td>85.54</td>\n",
              "      <td>281.0</td>\n",
              "      <td>2</td>\n",
              "    </tr>\n",
              "    <tr>\n",
              "      <th>1596</th>\n",
              "      <td>0</td>\n",
              "      <td>33.97</td>\n",
              "      <td>116.32</td>\n",
              "      <td>14.67</td>\n",
              "      <td>79.71</td>\n",
              "      <td>55.61</td>\n",
              "      <td>14.67</td>\n",
              "      <td>91.26</td>\n",
              "      <td>83.89</td>\n",
              "      <td>330.0</td>\n",
              "      <td>5</td>\n",
              "    </tr>\n",
              "    <tr>\n",
              "      <th>1597</th>\n",
              "      <td>0</td>\n",
              "      <td>35.48</td>\n",
              "      <td>130.07</td>\n",
              "      <td>18.02</td>\n",
              "      <td>77.61</td>\n",
              "      <td>58.41</td>\n",
              "      <td>18.02</td>\n",
              "      <td>98.35</td>\n",
              "      <td>83.83</td>\n",
              "      <td>356.0</td>\n",
              "      <td>5</td>\n",
              "    </tr>\n",
              "    <tr>\n",
              "      <th>1598</th>\n",
              "      <td>0</td>\n",
              "      <td>34.11</td>\n",
              "      <td>138.31</td>\n",
              "      <td>13.27</td>\n",
              "      <td>75.23</td>\n",
              "      <td>51.83</td>\n",
              "      <td>13.27</td>\n",
              "      <td>88.66</td>\n",
              "      <td>82.73</td>\n",
              "      <td>359.0</td>\n",
              "      <td>5</td>\n",
              "    </tr>\n",
              "    <tr>\n",
              "      <th>1599</th>\n",
              "      <td>0</td>\n",
              "      <td>33.69</td>\n",
              "      <td>111.73</td>\n",
              "      <td>34.56</td>\n",
              "      <td>68.90</td>\n",
              "      <td>69.77</td>\n",
              "      <td>34.56</td>\n",
              "      <td>80.90</td>\n",
              "      <td>84.17</td>\n",
              "      <td>547.0</td>\n",
              "      <td>4</td>\n",
              "    </tr>\n",
              "  </tbody>\n",
              "</table>\n",
              "</div>"
            ],
            "text/plain": [
              "      City  PM2.5    PM10     NO    NO2    NOx     CO     SO2  Toluene    AQI  \\\n",
              "1595     0  37.55  122.41  15.08  85.12  58.72  15.08  163.01    85.54  281.0   \n",
              "1596     0  33.97  116.32  14.67  79.71  55.61  14.67   91.26    83.89  330.0   \n",
              "1597     0  35.48  130.07  18.02  77.61  58.41  18.02   98.35    83.83  356.0   \n",
              "1598     0  34.11  138.31  13.27  75.23  51.83  13.27   88.66    82.73  359.0   \n",
              "1599     0  33.69  111.73  34.56  68.90  69.77  34.56   80.90    84.17  547.0   \n",
              "\n",
              "      AQI_Bucket  \n",
              "1595           2  \n",
              "1596           5  \n",
              "1597           5  \n",
              "1598           5  \n",
              "1599           4  "
            ]
          },
          "execution_count": 12,
          "metadata": {},
          "output_type": "execute_result"
        }
      ],
      "source": [
        "PM10_df_train.head()"
      ]
    },
    {
      "cell_type": "code",
      "execution_count": null,
      "metadata": {
        "id": "pK8_SU6LDaj0",
        "outputId": "021a7ecf-8a27-4521-93ad-85c856d75789"
      },
      "outputs": [
        {
          "data": {
            "text/html": [
              "<div>\n",
              "<style scoped>\n",
              "    .dataframe tbody tr th:only-of-type {\n",
              "        vertical-align: middle;\n",
              "    }\n",
              "\n",
              "    .dataframe tbody tr th {\n",
              "        vertical-align: top;\n",
              "    }\n",
              "\n",
              "    .dataframe thead th {\n",
              "        text-align: right;\n",
              "    }\n",
              "</style>\n",
              "<table border=\"1\" class=\"dataframe\">\n",
              "  <thead>\n",
              "    <tr style=\"text-align: right;\">\n",
              "      <th></th>\n",
              "      <th>City</th>\n",
              "      <th>PM2.5</th>\n",
              "      <th>PM10</th>\n",
              "      <th>NO</th>\n",
              "      <th>NO2</th>\n",
              "      <th>NOx</th>\n",
              "      <th>CO</th>\n",
              "      <th>SO2</th>\n",
              "      <th>Toluene</th>\n",
              "      <th>AQI</th>\n",
              "      <th>AQI_Bucket</th>\n",
              "    </tr>\n",
              "  </thead>\n",
              "  <tbody>\n",
              "    <tr>\n",
              "      <th>28</th>\n",
              "      <td>0</td>\n",
              "      <td>83.13</td>\n",
              "      <td>NaN</td>\n",
              "      <td>6.93</td>\n",
              "      <td>28.71</td>\n",
              "      <td>33.72</td>\n",
              "      <td>6.93</td>\n",
              "      <td>49.52</td>\n",
              "      <td>0.00</td>\n",
              "      <td>209.0</td>\n",
              "      <td>2</td>\n",
              "    </tr>\n",
              "    <tr>\n",
              "      <th>29</th>\n",
              "      <td>0</td>\n",
              "      <td>79.84</td>\n",
              "      <td>NaN</td>\n",
              "      <td>13.85</td>\n",
              "      <td>28.68</td>\n",
              "      <td>41.08</td>\n",
              "      <td>13.85</td>\n",
              "      <td>48.49</td>\n",
              "      <td>0.00</td>\n",
              "      <td>328.0</td>\n",
              "      <td>5</td>\n",
              "    </tr>\n",
              "    <tr>\n",
              "      <th>30</th>\n",
              "      <td>0</td>\n",
              "      <td>94.52</td>\n",
              "      <td>NaN</td>\n",
              "      <td>24.39</td>\n",
              "      <td>32.66</td>\n",
              "      <td>52.61</td>\n",
              "      <td>24.39</td>\n",
              "      <td>67.39</td>\n",
              "      <td>0.01</td>\n",
              "      <td>514.0</td>\n",
              "      <td>4</td>\n",
              "    </tr>\n",
              "    <tr>\n",
              "      <th>31</th>\n",
              "      <td>0</td>\n",
              "      <td>135.99</td>\n",
              "      <td>NaN</td>\n",
              "      <td>43.48</td>\n",
              "      <td>42.08</td>\n",
              "      <td>84.57</td>\n",
              "      <td>43.48</td>\n",
              "      <td>75.23</td>\n",
              "      <td>0.04</td>\n",
              "      <td>782.0</td>\n",
              "      <td>4</td>\n",
              "    </tr>\n",
              "    <tr>\n",
              "      <th>32</th>\n",
              "      <td>0</td>\n",
              "      <td>178.33</td>\n",
              "      <td>NaN</td>\n",
              "      <td>54.56</td>\n",
              "      <td>35.31</td>\n",
              "      <td>72.80</td>\n",
              "      <td>54.56</td>\n",
              "      <td>55.04</td>\n",
              "      <td>0.06</td>\n",
              "      <td>914.0</td>\n",
              "      <td>4</td>\n",
              "    </tr>\n",
              "  </tbody>\n",
              "</table>\n",
              "</div>"
            ],
            "text/plain": [
              "    City   PM2.5  PM10     NO    NO2    NOx     CO    SO2  Toluene    AQI  \\\n",
              "28     0   83.13   NaN   6.93  28.71  33.72   6.93  49.52     0.00  209.0   \n",
              "29     0   79.84   NaN  13.85  28.68  41.08  13.85  48.49     0.00  328.0   \n",
              "30     0   94.52   NaN  24.39  32.66  52.61  24.39  67.39     0.01  514.0   \n",
              "31     0  135.99   NaN  43.48  42.08  84.57  43.48  75.23     0.04  782.0   \n",
              "32     0  178.33   NaN  54.56  35.31  72.80  54.56  55.04     0.06  914.0   \n",
              "\n",
              "    AQI_Bucket  \n",
              "28           2  \n",
              "29           5  \n",
              "30           4  \n",
              "31           4  \n",
              "32           4  "
            ]
          },
          "execution_count": 13,
          "metadata": {},
          "output_type": "execute_result"
        }
      ],
      "source": [
        "PM10_df_missing.head()"
      ]
    },
    {
      "cell_type": "markdown",
      "metadata": {
        "id": "KOREZngyDaj0"
      },
      "source": [
        "#### Building a random forrest regression for predicting the PM10"
      ]
    },
    {
      "cell_type": "code",
      "execution_count": null,
      "metadata": {
        "id": "rC3QTXj7Daj1"
      },
      "outputs": [],
      "source": [
        "from sklearn.ensemble import RandomForestRegressor\n",
        "X_train = PM10_df_train.drop(columns=['PM10'])\n",
        "y_train = PM10_df_train['PM10']\n",
        "model = RandomForestRegressor(n_estimators=100, random_state=42)\n",
        "model.fit(X_train, y_train)\n",
        "X_missing = PM10_df_missing.drop(columns=['PM10'])\n",
        "predicted_PM10 = model.predict(X_missing)"
      ]
    },
    {
      "cell_type": "code",
      "execution_count": null,
      "metadata": {
        "id": "E08yIVWnDaj1",
        "outputId": "63e75c3b-797a-43db-a3e3-f1a0db02472b"
      },
      "outputs": [
        {
          "data": {
            "text/plain": [
              "City          0\n",
              "PM2.5         0\n",
              "PM10          0\n",
              "NO            0\n",
              "NO2           0\n",
              "NOx           0\n",
              "CO            0\n",
              "SO2           0\n",
              "Toluene       0\n",
              "AQI           0\n",
              "AQI_Bucket    0\n",
              "dtype: int64"
            ]
          },
          "execution_count": 15,
          "metadata": {},
          "output_type": "execute_result"
        }
      ],
      "source": [
        "air_index_corr.loc[air_index_corr['PM10'].isna(), 'PM10'] = predicted_PM10\n",
        "air_index_corr.isnull().sum()"
      ]
    },
    {
      "cell_type": "code",
      "execution_count": null,
      "metadata": {
        "id": "kHcccr3LDaj1",
        "outputId": "a716c0cc-be02-4713-ea6f-dad79dd27839"
      },
      "outputs": [
        {
          "data": {
            "text/plain": [
              "City         -0.123456\n",
              "PM2.5         0.654740\n",
              "PM10          0.701014\n",
              "NO            0.450688\n",
              "NO2           0.535274\n",
              "NOx           0.474227\n",
              "CO            0.678354\n",
              "SO2           0.484822\n",
              "Toluene       0.264428\n",
              "AQI           1.000000\n",
              "AQI_Bucket    0.451764\n",
              "Name: AQI, dtype: float64"
            ]
          },
          "execution_count": 17,
          "metadata": {},
          "output_type": "execute_result"
        }
      ],
      "source": [
        "air_index_corr.corr()['AQI']"
      ]
    },
    {
      "cell_type": "markdown",
      "metadata": {
        "id": "69pzFQkgDaj1"
      },
      "source": [
        "### Defining X, y variables"
      ]
    },
    {
      "cell_type": "code",
      "execution_count": null,
      "metadata": {
        "id": "k-HjqLx3Daj2",
        "outputId": "f6e240c8-4589-40df-e548-821c85c21130"
      },
      "outputs": [
        {
          "data": {
            "text/plain": [
              "((24850, 10), (24850,))"
            ]
          },
          "execution_count": 18,
          "metadata": {},
          "output_type": "execute_result"
        }
      ],
      "source": [
        "X, y = air_index_corr.drop(columns= ['AQI'], axis=1), air_index_corr['AQI']\n",
        "X.shape, y.shape"
      ]
    },
    {
      "cell_type": "markdown",
      "metadata": {
        "id": "Y77ogRRfDaj2"
      },
      "source": [
        "### splitting and Normalizing the values between 0 and 1"
      ]
    },
    {
      "cell_type": "code",
      "execution_count": null,
      "metadata": {
        "id": "9-xyY8dQDaj2",
        "outputId": "8bcd20b5-1a34-4866-a477-800c2b45a7dd"
      },
      "outputs": [
        {
          "data": {
            "text/plain": [
              "((16649, 10), (8201, 10), (16649,), (8201,))"
            ]
          },
          "execution_count": 20,
          "metadata": {},
          "output_type": "execute_result"
        }
      ],
      "source": [
        "from sklearn.preprocessing import MinMaxScaler\n",
        "from sklearn.model_selection import train_test_split\n",
        "min_scaler = MinMaxScaler()\n",
        "X_train, X_test, y_train, y_test = train_test_split(X, y, test_size=0.33, random_state=42)\n",
        "X_train_min_scaled = min_scaler.fit_transform(X_train)\n",
        "X_test_min_scaled = min_scaler.transform(X_test)\n",
        "X_train_min_scaled.shape, X_test_min_scaled.shape, y_train.shape, y_test.shape"
      ]
    },
    {
      "cell_type": "markdown",
      "metadata": {
        "id": "-h23dFFODaj2"
      },
      "source": [
        "## Build the linear Regression model to predict AQI\n",
        "1. Build the model using Sequential API\n",
        "2. Compile the model with optimizer and loss\n",
        "3. Fit the model with training data"
      ]
    },
    {
      "cell_type": "code",
      "execution_count": null,
      "metadata": {
        "id": "JU70XrVXDaj2",
        "outputId": "07eab9d7-0cf3-4a2b-da2f-1e6a62417a90"
      },
      "outputs": [
        {
          "name": "stdout",
          "output_type": "stream",
          "text": [
            "Epoch 1/100\n",
            "\u001b[1m1041/1041\u001b[0m \u001b[32m━━━━━━━━━━━━━━━━━━━━\u001b[0m\u001b[37m\u001b[0m \u001b[1m5s\u001b[0m 2ms/step - loss: 97.6338 - mae: 97.6338\n",
            "Epoch 2/100\n",
            "\u001b[1m1041/1041\u001b[0m \u001b[32m━━━━━━━━━━━━━━━━━━━━\u001b[0m\u001b[37m\u001b[0m \u001b[1m3s\u001b[0m 3ms/step - loss: 31.0844 - mae: 31.0844\n",
            "Epoch 3/100\n",
            "\u001b[1m1041/1041\u001b[0m \u001b[32m━━━━━━━━━━━━━━━━━━━━\u001b[0m\u001b[37m\u001b[0m \u001b[1m3s\u001b[0m 3ms/step - loss: 26.0335 - mae: 26.0335\n",
            "Epoch 4/100\n",
            "\u001b[1m1041/1041\u001b[0m \u001b[32m━━━━━━━━━━━━━━━━━━━━\u001b[0m\u001b[37m\u001b[0m \u001b[1m3s\u001b[0m 3ms/step - loss: 24.3705 - mae: 24.3705\n",
            "Epoch 5/100\n",
            "\u001b[1m1041/1041\u001b[0m \u001b[32m━━━━━━━━━━━━━━━━━━━━\u001b[0m\u001b[37m\u001b[0m \u001b[1m3s\u001b[0m 3ms/step - loss: 23.3345 - mae: 23.3345\n",
            "Epoch 6/100\n",
            "\u001b[1m1041/1041\u001b[0m \u001b[32m━━━━━━━━━━━━━━━━━━━━\u001b[0m\u001b[37m\u001b[0m \u001b[1m3s\u001b[0m 3ms/step - loss: 22.3232 - mae: 22.3232\n",
            "Epoch 7/100\n",
            "\u001b[1m1041/1041\u001b[0m \u001b[32m━━━━━━━━━━━━━━━━━━━━\u001b[0m\u001b[37m\u001b[0m \u001b[1m2s\u001b[0m 2ms/step - loss: 21.4392 - mae: 21.4392\n",
            "Epoch 8/100\n",
            "\u001b[1m1041/1041\u001b[0m \u001b[32m━━━━━━━━━━━━━━━━━━━━\u001b[0m\u001b[37m\u001b[0m \u001b[1m2s\u001b[0m 2ms/step - loss: 20.8557 - mae: 20.8557\n",
            "Epoch 9/100\n",
            "\u001b[1m1041/1041\u001b[0m \u001b[32m━━━━━━━━━━━━━━━━━━━━\u001b[0m\u001b[37m\u001b[0m \u001b[1m2s\u001b[0m 2ms/step - loss: 20.4018 - mae: 20.4018\n",
            "Epoch 10/100\n",
            "\u001b[1m1041/1041\u001b[0m \u001b[32m━━━━━━━━━━━━━━━━━━━━\u001b[0m\u001b[37m\u001b[0m \u001b[1m2s\u001b[0m 2ms/step - loss: 20.0662 - mae: 20.0662\n",
            "Epoch 11/100\n",
            "\u001b[1m1041/1041\u001b[0m \u001b[32m━━━━━━━━━━━━━━━━━━━━\u001b[0m\u001b[37m\u001b[0m \u001b[1m3s\u001b[0m 2ms/step - loss: 19.7760 - mae: 19.7760\n",
            "Epoch 12/100\n",
            "\u001b[1m1041/1041\u001b[0m \u001b[32m━━━━━━━━━━━━━━━━━━━━\u001b[0m\u001b[37m\u001b[0m \u001b[1m2s\u001b[0m 2ms/step - loss: 19.5095 - mae: 19.5095\n",
            "Epoch 13/100\n",
            "\u001b[1m1041/1041\u001b[0m \u001b[32m━━━━━━━━━━━━━━━━━━━━\u001b[0m\u001b[37m\u001b[0m \u001b[1m2s\u001b[0m 2ms/step - loss: 19.2932 - mae: 19.2932\n",
            "Epoch 14/100\n",
            "\u001b[1m1041/1041\u001b[0m \u001b[32m━━━━━━━━━━━━━━━━━━━━\u001b[0m\u001b[37m\u001b[0m \u001b[1m2s\u001b[0m 2ms/step - loss: 19.1267 - mae: 19.1267\n",
            "Epoch 15/100\n",
            "\u001b[1m1041/1041\u001b[0m \u001b[32m━━━━━━━━━━━━━━━━━━━━\u001b[0m\u001b[37m\u001b[0m \u001b[1m2s\u001b[0m 2ms/step - loss: 18.9823 - mae: 18.9823\n",
            "Epoch 16/100\n",
            "\u001b[1m1041/1041\u001b[0m \u001b[32m━━━━━━━━━━━━━━━━━━━━\u001b[0m\u001b[37m\u001b[0m \u001b[1m2s\u001b[0m 2ms/step - loss: 18.8603 - mae: 18.8603\n",
            "Epoch 17/100\n",
            "\u001b[1m1041/1041\u001b[0m \u001b[32m━━━━━━━━━━━━━━━━━━━━\u001b[0m\u001b[37m\u001b[0m \u001b[1m2s\u001b[0m 2ms/step - loss: 18.7656 - mae: 18.7656\n",
            "Epoch 18/100\n",
            "\u001b[1m1041/1041\u001b[0m \u001b[32m━━━━━━━━━━━━━━━━━━━━\u001b[0m\u001b[37m\u001b[0m \u001b[1m2s\u001b[0m 2ms/step - loss: 18.6872 - mae: 18.6872\n",
            "Epoch 19/100\n",
            "\u001b[1m1041/1041\u001b[0m \u001b[32m━━━━━━━━━━━━━━━━━━━━\u001b[0m\u001b[37m\u001b[0m \u001b[1m2s\u001b[0m 2ms/step - loss: 18.6021 - mae: 18.6021\n",
            "Epoch 20/100\n",
            "\u001b[1m1041/1041\u001b[0m \u001b[32m━━━━━━━━━━━━━━━━━━━━\u001b[0m\u001b[37m\u001b[0m \u001b[1m2s\u001b[0m 2ms/step - loss: 18.5406 - mae: 18.5406\n",
            "Epoch 21/100\n",
            "\u001b[1m1041/1041\u001b[0m \u001b[32m━━━━━━━━━━━━━━━━━━━━\u001b[0m\u001b[37m\u001b[0m \u001b[1m2s\u001b[0m 2ms/step - loss: 18.4837 - mae: 18.4837\n",
            "Epoch 22/100\n",
            "\u001b[1m1041/1041\u001b[0m \u001b[32m━━━━━━━━━━━━━━━━━━━━\u001b[0m\u001b[37m\u001b[0m \u001b[1m3s\u001b[0m 3ms/step - loss: 18.4387 - mae: 18.4387\n",
            "Epoch 23/100\n",
            "\u001b[1m1041/1041\u001b[0m \u001b[32m━━━━━━━━━━━━━━━━━━━━\u001b[0m\u001b[37m\u001b[0m \u001b[1m2s\u001b[0m 2ms/step - loss: 18.4131 - mae: 18.4131\n",
            "Epoch 24/100\n",
            "\u001b[1m1041/1041\u001b[0m \u001b[32m━━━━━━━━━━━━━━━━━━━━\u001b[0m\u001b[37m\u001b[0m \u001b[1m2s\u001b[0m 2ms/step - loss: 18.3723 - mae: 18.3723\n",
            "Epoch 25/100\n",
            "\u001b[1m1041/1041\u001b[0m \u001b[32m━━━━━━━━━━━━━━━━━━━━\u001b[0m\u001b[37m\u001b[0m \u001b[1m2s\u001b[0m 2ms/step - loss: 18.3240 - mae: 18.3240\n",
            "Epoch 26/100\n",
            "\u001b[1m1041/1041\u001b[0m \u001b[32m━━━━━━━━━━━━━━━━━━━━\u001b[0m\u001b[37m\u001b[0m \u001b[1m2s\u001b[0m 2ms/step - loss: 18.2744 - mae: 18.2744\n",
            "Epoch 27/100\n",
            "\u001b[1m1041/1041\u001b[0m \u001b[32m━━━━━━━━━━━━━━━━━━━━\u001b[0m\u001b[37m\u001b[0m \u001b[1m2s\u001b[0m 2ms/step - loss: 18.2380 - mae: 18.2380\n",
            "Epoch 28/100\n",
            "\u001b[1m1041/1041\u001b[0m \u001b[32m━━━━━━━━━━━━━━━━━━━━\u001b[0m\u001b[37m\u001b[0m \u001b[1m2s\u001b[0m 2ms/step - loss: 18.2087 - mae: 18.2087\n",
            "Epoch 29/100\n",
            "\u001b[1m1041/1041\u001b[0m \u001b[32m━━━━━━━━━━━━━━━━━━━━\u001b[0m\u001b[37m\u001b[0m \u001b[1m2s\u001b[0m 2ms/step - loss: 18.1757 - mae: 18.1757\n",
            "Epoch 30/100\n",
            "\u001b[1m1041/1041\u001b[0m \u001b[32m━━━━━━━━━━━━━━━━━━━━\u001b[0m\u001b[37m\u001b[0m \u001b[1m2s\u001b[0m 2ms/step - loss: 18.1308 - mae: 18.1308\n",
            "Epoch 31/100\n",
            "\u001b[1m1041/1041\u001b[0m \u001b[32m━━━━━━━━━━━━━━━━━━━━\u001b[0m\u001b[37m\u001b[0m \u001b[1m2s\u001b[0m 2ms/step - loss: 18.1062 - mae: 18.1062\n",
            "Epoch 32/100\n",
            "\u001b[1m1041/1041\u001b[0m \u001b[32m━━━━━━━━━━━━━━━━━━━━\u001b[0m\u001b[37m\u001b[0m \u001b[1m2s\u001b[0m 2ms/step - loss: 18.1292 - mae: 18.1292\n",
            "Epoch 33/100\n",
            "\u001b[1m1041/1041\u001b[0m \u001b[32m━━━━━━━━━━━━━━━━━━━━\u001b[0m\u001b[37m\u001b[0m \u001b[1m2s\u001b[0m 2ms/step - loss: 18.0998 - mae: 18.0998\n",
            "Epoch 34/100\n",
            "\u001b[1m1041/1041\u001b[0m \u001b[32m━━━━━━━━━━━━━━━━━━━━\u001b[0m\u001b[37m\u001b[0m \u001b[1m2s\u001b[0m 2ms/step - loss: 18.0440 - mae: 18.0440\n",
            "Epoch 35/100\n",
            "\u001b[1m1041/1041\u001b[0m \u001b[32m━━━━━━━━━━━━━━━━━━━━\u001b[0m\u001b[37m\u001b[0m \u001b[1m2s\u001b[0m 2ms/step - loss: 18.0331 - mae: 18.0331\n",
            "Epoch 36/100\n",
            "\u001b[1m1041/1041\u001b[0m \u001b[32m━━━━━━━━━━━━━━━━━━━━\u001b[0m\u001b[37m\u001b[0m \u001b[1m2s\u001b[0m 2ms/step - loss: 18.0095 - mae: 18.0095\n",
            "Epoch 37/100\n",
            "\u001b[1m1041/1041\u001b[0m \u001b[32m━━━━━━━━━━━━━━━━━━━━\u001b[0m\u001b[37m\u001b[0m \u001b[1m2s\u001b[0m 2ms/step - loss: 17.9894 - mae: 17.9894\n",
            "Epoch 38/100\n",
            "\u001b[1m1041/1041\u001b[0m \u001b[32m━━━━━━━━━━━━━━━━━━━━\u001b[0m\u001b[37m\u001b[0m \u001b[1m3s\u001b[0m 2ms/step - loss: 17.9673 - mae: 17.9673\n",
            "Epoch 39/100\n",
            "\u001b[1m1041/1041\u001b[0m \u001b[32m━━━━━━━━━━━━━━━━━━━━\u001b[0m\u001b[37m\u001b[0m \u001b[1m2s\u001b[0m 2ms/step - loss: 17.9840 - mae: 17.9840\n",
            "Epoch 40/100\n",
            "\u001b[1m1041/1041\u001b[0m \u001b[32m━━━━━━━━━━━━━━━━━━━━\u001b[0m\u001b[37m\u001b[0m \u001b[1m2s\u001b[0m 2ms/step - loss: 17.8920 - mae: 17.8920\n",
            "Epoch 41/100\n",
            "\u001b[1m1041/1041\u001b[0m \u001b[32m━━━━━━━━━━━━━━━━━━━━\u001b[0m\u001b[37m\u001b[0m \u001b[1m2s\u001b[0m 2ms/step - loss: 17.8982 - mae: 17.8982\n",
            "Epoch 42/100\n",
            "\u001b[1m1041/1041\u001b[0m \u001b[32m━━━━━━━━━━━━━━━━━━━━\u001b[0m\u001b[37m\u001b[0m \u001b[1m2s\u001b[0m 2ms/step - loss: 17.8816 - mae: 17.8816\n",
            "Epoch 43/100\n",
            "\u001b[1m1041/1041\u001b[0m \u001b[32m━━━━━━━━━━━━━━━━━━━━\u001b[0m\u001b[37m\u001b[0m \u001b[1m2s\u001b[0m 2ms/step - loss: 17.8778 - mae: 17.8778\n",
            "Epoch 44/100\n",
            "\u001b[1m1041/1041\u001b[0m \u001b[32m━━━━━━━━━━━━━━━━━━━━\u001b[0m\u001b[37m\u001b[0m \u001b[1m2s\u001b[0m 2ms/step - loss: 17.8483 - mae: 17.8483\n",
            "Epoch 45/100\n",
            "\u001b[1m1041/1041\u001b[0m \u001b[32m━━━━━━━━━━━━━━━━━━━━\u001b[0m\u001b[37m\u001b[0m \u001b[1m2s\u001b[0m 2ms/step - loss: 17.8568 - mae: 17.8568\n",
            "Epoch 46/100\n",
            "\u001b[1m1041/1041\u001b[0m \u001b[32m━━━━━━━━━━━━━━━━━━━━\u001b[0m\u001b[37m\u001b[0m \u001b[1m2s\u001b[0m 2ms/step - loss: 17.8049 - mae: 17.8049\n",
            "Epoch 47/100\n",
            "\u001b[1m1041/1041\u001b[0m \u001b[32m━━━━━━━━━━━━━━━━━━━━\u001b[0m\u001b[37m\u001b[0m \u001b[1m2s\u001b[0m 2ms/step - loss: 17.7963 - mae: 17.7963\n",
            "Epoch 48/100\n",
            "\u001b[1m1041/1041\u001b[0m \u001b[32m━━━━━━━━━━━━━━━━━━━━\u001b[0m\u001b[37m\u001b[0m \u001b[1m2s\u001b[0m 2ms/step - loss: 17.7979 - mae: 17.7979\n",
            "Epoch 49/100\n",
            "\u001b[1m1041/1041\u001b[0m \u001b[32m━━━━━━━━━━━━━━━━━━━━\u001b[0m\u001b[37m\u001b[0m \u001b[1m2s\u001b[0m 2ms/step - loss: 17.7881 - mae: 17.7881\n",
            "Epoch 50/100\n",
            "\u001b[1m1041/1041\u001b[0m \u001b[32m━━━━━━━━━━━━━━━━━━━━\u001b[0m\u001b[37m\u001b[0m \u001b[1m2s\u001b[0m 2ms/step - loss: 17.7608 - mae: 17.7608\n",
            "Epoch 51/100\n",
            "\u001b[1m1041/1041\u001b[0m \u001b[32m━━━━━━━━━━━━━━━━━━━━\u001b[0m\u001b[37m\u001b[0m \u001b[1m3s\u001b[0m 3ms/step - loss: 17.7067 - mae: 17.7067\n",
            "Epoch 52/100\n",
            "\u001b[1m1041/1041\u001b[0m \u001b[32m━━━━━━━━━━━━━━━━━━━━\u001b[0m\u001b[37m\u001b[0m \u001b[1m2s\u001b[0m 2ms/step - loss: 17.6891 - mae: 17.6891\n",
            "Epoch 53/100\n",
            "\u001b[1m1041/1041\u001b[0m \u001b[32m━━━━━━━━━━━━━━━━━━━━\u001b[0m\u001b[37m\u001b[0m \u001b[1m2s\u001b[0m 2ms/step - loss: 17.6964 - mae: 17.6964\n",
            "Epoch 54/100\n",
            "\u001b[1m1041/1041\u001b[0m \u001b[32m━━━━━━━━━━━━━━━━━━━━\u001b[0m\u001b[37m\u001b[0m \u001b[1m2s\u001b[0m 2ms/step - loss: 17.6730 - mae: 17.6730\n",
            "Epoch 55/100\n",
            "\u001b[1m1041/1041\u001b[0m \u001b[32m━━━━━━━━━━━━━━━━━━━━\u001b[0m\u001b[37m\u001b[0m \u001b[1m2s\u001b[0m 2ms/step - loss: 17.6451 - mae: 17.6451\n",
            "Epoch 56/100\n",
            "\u001b[1m1041/1041\u001b[0m \u001b[32m━━━━━━━━━━━━━━━━━━━━\u001b[0m\u001b[37m\u001b[0m \u001b[1m2s\u001b[0m 2ms/step - loss: 17.6519 - mae: 17.6519\n",
            "Epoch 57/100\n",
            "\u001b[1m1041/1041\u001b[0m \u001b[32m━━━━━━━━━━━━━━━━━━━━\u001b[0m\u001b[37m\u001b[0m \u001b[1m2s\u001b[0m 2ms/step - loss: 17.6249 - mae: 17.6249\n",
            "Epoch 58/100\n",
            "\u001b[1m1041/1041\u001b[0m \u001b[32m━━━━━━━━━━━━━━━━━━━━\u001b[0m\u001b[37m\u001b[0m \u001b[1m2s\u001b[0m 2ms/step - loss: 17.6328 - mae: 17.6328\n",
            "Epoch 59/100\n",
            "\u001b[1m1041/1041\u001b[0m \u001b[32m━━━━━━━━━━━━━━━━━━━━\u001b[0m\u001b[37m\u001b[0m \u001b[1m2s\u001b[0m 2ms/step - loss: 17.6060 - mae: 17.6060\n",
            "Epoch 60/100\n",
            "\u001b[1m1041/1041\u001b[0m \u001b[32m━━━━━━━━━━━━━━━━━━━━\u001b[0m\u001b[37m\u001b[0m \u001b[1m2s\u001b[0m 2ms/step - loss: 17.5862 - mae: 17.5862\n",
            "Epoch 61/100\n",
            "\u001b[1m1041/1041\u001b[0m \u001b[32m━━━━━━━━━━━━━━━━━━━━\u001b[0m\u001b[37m\u001b[0m \u001b[1m2s\u001b[0m 2ms/step - loss: 17.5231 - mae: 17.5231\n",
            "Epoch 62/100\n",
            "\u001b[1m1041/1041\u001b[0m \u001b[32m━━━━━━━━━━━━━━━━━━━━\u001b[0m\u001b[37m\u001b[0m \u001b[1m2s\u001b[0m 2ms/step - loss: 17.5266 - mae: 17.5266\n",
            "Epoch 63/100\n",
            "\u001b[1m1041/1041\u001b[0m \u001b[32m━━━━━━━━━━━━━━━━━━━━\u001b[0m\u001b[37m\u001b[0m \u001b[1m3s\u001b[0m 3ms/step - loss: 17.5329 - mae: 17.5329\n",
            "Epoch 64/100\n",
            "\u001b[1m1041/1041\u001b[0m \u001b[32m━━━━━━━━━━━━━━━━━━━━\u001b[0m\u001b[37m\u001b[0m \u001b[1m3s\u001b[0m 3ms/step - loss: 17.4937 - mae: 17.4937\n",
            "Epoch 65/100\n",
            "\u001b[1m1041/1041\u001b[0m \u001b[32m━━━━━━━━━━━━━━━━━━━━\u001b[0m\u001b[37m\u001b[0m \u001b[1m2s\u001b[0m 2ms/step - loss: 17.4610 - mae: 17.4610\n",
            "Epoch 66/100\n",
            "\u001b[1m1041/1041\u001b[0m \u001b[32m━━━━━━━━━━━━━━━━━━━━\u001b[0m\u001b[37m\u001b[0m \u001b[1m2s\u001b[0m 2ms/step - loss: 17.4391 - mae: 17.4391\n",
            "Epoch 67/100\n",
            "\u001b[1m1041/1041\u001b[0m \u001b[32m━━━━━━━━━━━━━━━━━━━━\u001b[0m\u001b[37m\u001b[0m \u001b[1m2s\u001b[0m 2ms/step - loss: 17.4197 - mae: 17.4197\n",
            "Epoch 68/100\n",
            "\u001b[1m1041/1041\u001b[0m \u001b[32m━━━━━━━━━━━━━━━━━━━━\u001b[0m\u001b[37m\u001b[0m \u001b[1m2s\u001b[0m 2ms/step - loss: 17.3928 - mae: 17.3928\n",
            "Epoch 69/100\n",
            "\u001b[1m1041/1041\u001b[0m \u001b[32m━━━━━━━━━━━━━━━━━━━━\u001b[0m\u001b[37m\u001b[0m \u001b[1m2s\u001b[0m 2ms/step - loss: 17.3775 - mae: 17.3775\n",
            "Epoch 70/100\n",
            "\u001b[1m1041/1041\u001b[0m \u001b[32m━━━━━━━━━━━━━━━━━━━━\u001b[0m\u001b[37m\u001b[0m \u001b[1m2s\u001b[0m 2ms/step - loss: 17.3715 - mae: 17.3715\n",
            "Epoch 71/100\n",
            "\u001b[1m1041/1041\u001b[0m \u001b[32m━━━━━━━━━━━━━━━━━━━━\u001b[0m\u001b[37m\u001b[0m \u001b[1m2s\u001b[0m 2ms/step - loss: 17.3858 - mae: 17.3858\n",
            "Epoch 72/100\n",
            "\u001b[1m1041/1041\u001b[0m \u001b[32m━━━━━━━━━━━━━━━━━━━━\u001b[0m\u001b[37m\u001b[0m \u001b[1m3s\u001b[0m 3ms/step - loss: 17.3283 - mae: 17.3283\n",
            "Epoch 73/100\n",
            "\u001b[1m1041/1041\u001b[0m \u001b[32m━━━━━━━━━━━━━━━━━━━━\u001b[0m\u001b[37m\u001b[0m \u001b[1m3s\u001b[0m 2ms/step - loss: 17.3276 - mae: 17.3276\n",
            "Epoch 74/100\n",
            "\u001b[1m1041/1041\u001b[0m \u001b[32m━━━━━━━━━━━━━━━━━━━━\u001b[0m\u001b[37m\u001b[0m \u001b[1m3s\u001b[0m 3ms/step - loss: 17.3157 - mae: 17.3157\n",
            "Epoch 75/100\n",
            "\u001b[1m1041/1041\u001b[0m \u001b[32m━━━━━━━━━━━━━━━━━━━━\u001b[0m\u001b[37m\u001b[0m \u001b[1m3s\u001b[0m 2ms/step - loss: 17.3307 - mae: 17.3307\n",
            "Epoch 76/100\n",
            "\u001b[1m1041/1041\u001b[0m \u001b[32m━━━━━━━━━━━━━━━━━━━━\u001b[0m\u001b[37m\u001b[0m \u001b[1m3s\u001b[0m 2ms/step - loss: 17.2729 - mae: 17.2729\n",
            "Epoch 77/100\n",
            "\u001b[1m1041/1041\u001b[0m \u001b[32m━━━━━━━━━━━━━━━━━━━━\u001b[0m\u001b[37m\u001b[0m \u001b[1m3s\u001b[0m 2ms/step - loss: 17.2766 - mae: 17.2766\n",
            "Epoch 78/100\n",
            "\u001b[1m1041/1041\u001b[0m \u001b[32m━━━━━━━━━━━━━━━━━━━━\u001b[0m\u001b[37m\u001b[0m \u001b[1m3s\u001b[0m 3ms/step - loss: 17.2611 - mae: 17.2611\n",
            "Epoch 79/100\n",
            "\u001b[1m1041/1041\u001b[0m \u001b[32m━━━━━━━━━━━━━━━━━━━━\u001b[0m\u001b[37m\u001b[0m \u001b[1m3s\u001b[0m 3ms/step - loss: 17.2701 - mae: 17.2701\n",
            "Epoch 80/100\n",
            "\u001b[1m1041/1041\u001b[0m \u001b[32m━━━━━━━━━━━━━━━━━━━━\u001b[0m\u001b[37m\u001b[0m \u001b[1m2s\u001b[0m 2ms/step - loss: 17.2691 - mae: 17.2691\n",
            "Epoch 81/100\n",
            "\u001b[1m1041/1041\u001b[0m \u001b[32m━━━━━━━━━━━━━━━━━━━━\u001b[0m\u001b[37m\u001b[0m \u001b[1m2s\u001b[0m 2ms/step - loss: 17.2678 - mae: 17.2678\n",
            "Epoch 82/100\n",
            "\u001b[1m1041/1041\u001b[0m \u001b[32m━━━━━━━━━━━━━━━━━━━━\u001b[0m\u001b[37m\u001b[0m \u001b[1m2s\u001b[0m 2ms/step - loss: 17.2109 - mae: 17.2109\n",
            "Epoch 83/100\n",
            "\u001b[1m1041/1041\u001b[0m \u001b[32m━━━━━━━━━━━━━━━━━━━━\u001b[0m\u001b[37m\u001b[0m \u001b[1m2s\u001b[0m 2ms/step - loss: 17.2323 - mae: 17.2323\n",
            "Epoch 84/100\n",
            "\u001b[1m1041/1041\u001b[0m \u001b[32m━━━━━━━━━━━━━━━━━━━━\u001b[0m\u001b[37m\u001b[0m \u001b[1m3s\u001b[0m 3ms/step - loss: 17.2374 - mae: 17.2374\n",
            "Epoch 85/100\n",
            "\u001b[1m1041/1041\u001b[0m \u001b[32m━━━━━━━━━━━━━━━━━━━━\u001b[0m\u001b[37m\u001b[0m \u001b[1m3s\u001b[0m 2ms/step - loss: 17.2328 - mae: 17.2328\n",
            "Epoch 86/100\n",
            "\u001b[1m1041/1041\u001b[0m \u001b[32m━━━━━━━━━━━━━━━━━━━━\u001b[0m\u001b[37m\u001b[0m \u001b[1m2s\u001b[0m 2ms/step - loss: 17.2002 - mae: 17.2002\n",
            "Epoch 87/100\n",
            "\u001b[1m1041/1041\u001b[0m \u001b[32m━━━━━━━━━━━━━━━━━━━━\u001b[0m\u001b[37m\u001b[0m \u001b[1m2s\u001b[0m 2ms/step - loss: 17.2191 - mae: 17.2191\n",
            "Epoch 88/100\n",
            "\u001b[1m1041/1041\u001b[0m \u001b[32m━━━━━━━━━━━━━━━━━━━━\u001b[0m\u001b[37m\u001b[0m \u001b[1m2s\u001b[0m 2ms/step - loss: 17.1879 - mae: 17.1879\n",
            "Epoch 89/100\n",
            "\u001b[1m1041/1041\u001b[0m \u001b[32m━━━━━━━━━━━━━━━━━━━━\u001b[0m\u001b[37m\u001b[0m \u001b[1m2s\u001b[0m 2ms/step - loss: 17.2030 - mae: 17.2030\n",
            "Epoch 90/100\n",
            "\u001b[1m1041/1041\u001b[0m \u001b[32m━━━━━━━━━━━━━━━━━━━━\u001b[0m\u001b[37m\u001b[0m \u001b[1m2s\u001b[0m 2ms/step - loss: 17.1846 - mae: 17.1846\n",
            "Epoch 91/100\n",
            "\u001b[1m1041/1041\u001b[0m \u001b[32m━━━━━━━━━━━━━━━━━━━━\u001b[0m\u001b[37m\u001b[0m \u001b[1m2s\u001b[0m 2ms/step - loss: 17.1613 - mae: 17.1613\n",
            "Epoch 92/100\n",
            "\u001b[1m1041/1041\u001b[0m \u001b[32m━━━━━━━━━━━━━━━━━━━━\u001b[0m\u001b[37m\u001b[0m \u001b[1m2s\u001b[0m 2ms/step - loss: 17.1601 - mae: 17.1601\n",
            "Epoch 93/100\n",
            "\u001b[1m1041/1041\u001b[0m \u001b[32m━━━━━━━━━━━━━━━━━━━━\u001b[0m\u001b[37m\u001b[0m \u001b[1m2s\u001b[0m 2ms/step - loss: 17.1431 - mae: 17.1431\n",
            "Epoch 94/100\n",
            "\u001b[1m1041/1041\u001b[0m \u001b[32m━━━━━━━━━━━━━━━━━━━━\u001b[0m\u001b[37m\u001b[0m \u001b[1m2s\u001b[0m 2ms/step - loss: 17.0987 - mae: 17.0987\n",
            "Epoch 95/100\n",
            "\u001b[1m1041/1041\u001b[0m \u001b[32m━━━━━━━━━━━━━━━━━━━━\u001b[0m\u001b[37m\u001b[0m \u001b[1m2s\u001b[0m 2ms/step - loss: 17.1135 - mae: 17.1135\n",
            "Epoch 96/100\n",
            "\u001b[1m1041/1041\u001b[0m \u001b[32m━━━━━━━━━━━━━━━━━━━━\u001b[0m\u001b[37m\u001b[0m \u001b[1m2s\u001b[0m 2ms/step - loss: 17.0713 - mae: 17.0713\n",
            "Epoch 97/100\n",
            "\u001b[1m1041/1041\u001b[0m \u001b[32m━━━━━━━━━━━━━━━━━━━━\u001b[0m\u001b[37m\u001b[0m \u001b[1m2s\u001b[0m 2ms/step - loss: 17.1280 - mae: 17.1280\n",
            "Epoch 98/100\n",
            "\u001b[1m1041/1041\u001b[0m \u001b[32m━━━━━━━━━━━━━━━━━━━━\u001b[0m\u001b[37m\u001b[0m \u001b[1m2s\u001b[0m 2ms/step - loss: 17.0932 - mae: 17.0932\n",
            "Epoch 99/100\n",
            "\u001b[1m1041/1041\u001b[0m \u001b[32m━━━━━━━━━━━━━━━━━━━━\u001b[0m\u001b[37m\u001b[0m \u001b[1m2s\u001b[0m 2ms/step - loss: 17.0556 - mae: 17.0556\n",
            "Epoch 100/100\n",
            "\u001b[1m1041/1041\u001b[0m \u001b[32m━━━━━━━━━━━━━━━━━━━━\u001b[0m\u001b[37m\u001b[0m \u001b[1m2s\u001b[0m 2ms/step - loss: 17.0455 - mae: 17.0455\n"
          ]
        }
      ],
      "source": [
        "tf.random.set_seed(42)\n",
        "\n",
        "## 1. Build the model\n",
        "model1 = tf.keras.Sequential([\n",
        "    tf.keras.Input(shape=(X_train_min_scaled.shape[1],)),\n",
        "    tf.keras.layers.Dense(64, activation= 'relu'),\n",
        "    tf.keras.layers.Dense(32, activation= 'relu'),\n",
        "    tf.keras.layers.Dense(16, activation= 'relu'),\n",
        "    tf.keras.layers.Dense(1, activation= 'linear'),\n",
        "])\n",
        "\n",
        "## 2. Compile the model\n",
        "model1.compile(\n",
        "    optimizer = tf.keras.optimizers.Adam(learning_rate= 0.001),\n",
        "    loss = tf.keras.losses.mae,\n",
        "    metrics = ['mae']\n",
        ")\n",
        "\n",
        "## 3. Fit the model with training data\n",
        "model1_history = model1.fit(X_train_min_scaled, y_train, epochs = 100, batch_size = 16)"
      ]
    },
    {
      "cell_type": "code",
      "execution_count": null,
      "metadata": {
        "id": "5yYkp1l_Daj3",
        "outputId": "fa28d0e1-e20a-4434-fb56-92cd4a7cab81"
      },
      "outputs": [
        {
          "data": {
            "text/plain": [
              "<Axes: >"
            ]
          },
          "execution_count": 22,
          "metadata": {},
          "output_type": "execute_result"
        },
        {
          "data": {
            "image/png": "[encoded data removed]",
            "text/plain": [
              "<Figure size 640x480 with 1 Axes>"
            ]
          },
          "metadata": {},
          "output_type": "display_data"
        }
      ],
      "source": [
        "pd.DataFrame(model1_history.history).plot()"
      ]
    },
    {
      "cell_type": "code",
      "execution_count": null,
      "metadata": {
        "id": "v780r5lDDaj3",
        "outputId": "404233b8-d6ab-4366-d49f-e032f573df13"
      },
      "outputs": [
        {
          "name": "stdout",
          "output_type": "stream",
          "text": [
            "\u001b[1m257/257\u001b[0m \u001b[32m━━━━━━━━━━━━━━━━━━━━\u001b[0m\u001b[37m\u001b[0m \u001b[1m1s\u001b[0m 3ms/step\n"
          ]
        },
        {
          "data": {
            "text/plain": [
              "0.8916902481756893"
            ]
          },
          "execution_count": 23,
          "metadata": {},
          "output_type": "execute_result"
        }
      ],
      "source": [
        "from sklearn.metrics import r2_score\n",
        "y_pred = model1.predict(X_test_min_scaled)\n",
        "r2_score(y_pred, y_test)"
      ]
    },
    {
      "cell_type": "markdown",
      "metadata": {
        "id": "XwdM1XgvDaj3"
      },
      "source": [
        "### lets try by increasing learning rate and by decreasing the epochs"
      ]
    },
    {
      "cell_type": "code",
      "execution_count": null,
      "metadata": {
        "id": "C-Y4tb5FDaj3",
        "outputId": "dc7afa7e-515b-49aa-cbde-1df903196aef"
      },
      "outputs": [
        {
          "name": "stdout",
          "output_type": "stream",
          "text": [
            "Epoch 1/50\n",
            "\u001b[1m1041/1041\u001b[0m \u001b[32m━━━━━━━━━━━━━━━━━━━━\u001b[0m\u001b[37m\u001b[0m \u001b[1m3s\u001b[0m 2ms/step - loss: 54.9538 - mae: 54.9538\n",
            "Epoch 2/50\n",
            "\u001b[1m1041/1041\u001b[0m \u001b[32m━━━━━━━━━━━━━━━━━━━━\u001b[0m\u001b[37m\u001b[0m \u001b[1m2s\u001b[0m 2ms/step - loss: 26.7243 - mae: 26.7243\n",
            "Epoch 3/50\n",
            "\u001b[1m1041/1041\u001b[0m \u001b[32m━━━━━━━━━━━━━━━━━━━━\u001b[0m\u001b[37m\u001b[0m \u001b[1m2s\u001b[0m 2ms/step - loss: 25.6201 - mae: 25.6201\n",
            "Epoch 4/50\n",
            "\u001b[1m1041/1041\u001b[0m \u001b[32m━━━━━━━━━━━━━━━━━━━━\u001b[0m\u001b[37m\u001b[0m \u001b[1m2s\u001b[0m 2ms/step - loss: 25.2591 - mae: 25.2591\n",
            "Epoch 5/50\n",
            "\u001b[1m1041/1041\u001b[0m \u001b[32m━━━━━━━━━━━━━━━━━━━━\u001b[0m\u001b[37m\u001b[0m \u001b[1m2s\u001b[0m 2ms/step - loss: 24.9727 - mae: 24.9727\n",
            "Epoch 6/50\n",
            "\u001b[1m1041/1041\u001b[0m \u001b[32m━━━━━━━━━━━━━━━━━━━━\u001b[0m\u001b[37m\u001b[0m \u001b[1m2s\u001b[0m 2ms/step - loss: 24.5019 - mae: 24.5019\n",
            "Epoch 7/50\n",
            "\u001b[1m1041/1041\u001b[0m \u001b[32m━━━━━━━━━━━━━━━━━━━━\u001b[0m\u001b[37m\u001b[0m \u001b[1m2s\u001b[0m 2ms/step - loss: 24.0243 - mae: 24.0243\n",
            "Epoch 8/50\n",
            "\u001b[1m1041/1041\u001b[0m \u001b[32m━━━━━━━━━━━━━━━━━━━━\u001b[0m\u001b[37m\u001b[0m \u001b[1m2s\u001b[0m 2ms/step - loss: 23.5708 - mae: 23.5708\n",
            "Epoch 9/50\n",
            "\u001b[1m1041/1041\u001b[0m \u001b[32m━━━━━━━━━━━━━━━━━━━━\u001b[0m\u001b[37m\u001b[0m \u001b[1m2s\u001b[0m 2ms/step - loss: 23.1914 - mae: 23.1914\n",
            "Epoch 10/50\n",
            "\u001b[1m1041/1041\u001b[0m \u001b[32m━━━━━━━━━━━━━━━━━━━━\u001b[0m\u001b[37m\u001b[0m \u001b[1m2s\u001b[0m 2ms/step - loss: 21.3101 - mae: 21.3101\n",
            "Epoch 11/50\n",
            "\u001b[1m1041/1041\u001b[0m \u001b[32m━━━━━━━━━━━━━━━━━━━━\u001b[0m\u001b[37m\u001b[0m \u001b[1m2s\u001b[0m 2ms/step - loss: 20.5131 - mae: 20.5131\n",
            "Epoch 12/50\n",
            "\u001b[1m1041/1041\u001b[0m \u001b[32m━━━━━━━━━━━━━━━━━━━━\u001b[0m\u001b[37m\u001b[0m \u001b[1m2s\u001b[0m 2ms/step - loss: 20.1259 - mae: 20.1259\n",
            "Epoch 13/50\n",
            "\u001b[1m1041/1041\u001b[0m \u001b[32m━━━━━━━━━━━━━━━━━━━━\u001b[0m\u001b[37m\u001b[0m \u001b[1m2s\u001b[0m 2ms/step - loss: 19.8508 - mae: 19.8508\n",
            "Epoch 14/50\n",
            "\u001b[1m1041/1041\u001b[0m \u001b[32m━━━━━━━━━━━━━━━━━━━━\u001b[0m\u001b[37m\u001b[0m \u001b[1m2s\u001b[0m 2ms/step - loss: 19.7216 - mae: 19.7216\n",
            "Epoch 15/50\n",
            "\u001b[1m1041/1041\u001b[0m \u001b[32m━━━━━━━━━━━━━━━━━━━━\u001b[0m\u001b[37m\u001b[0m \u001b[1m2s\u001b[0m 2ms/step - loss: 19.6684 - mae: 19.6684\n",
            "Epoch 16/50\n",
            "\u001b[1m1041/1041\u001b[0m \u001b[32m━━━━━━━━━━━━━━━━━━━━\u001b[0m\u001b[37m\u001b[0m \u001b[1m2s\u001b[0m 2ms/step - loss: 19.4438 - mae: 19.4438\n",
            "Epoch 17/50\n",
            "\u001b[1m1041/1041\u001b[0m \u001b[32m━━━━━━━━━━━━━━━━━━━━\u001b[0m\u001b[37m\u001b[0m \u001b[1m2s\u001b[0m 2ms/step - loss: 19.5658 - mae: 19.5658\n",
            "Epoch 18/50\n",
            "\u001b[1m1041/1041\u001b[0m \u001b[32m━━━━━━━━━━━━━━━━━━━━\u001b[0m\u001b[37m\u001b[0m \u001b[1m2s\u001b[0m 2ms/step - loss: 19.2501 - mae: 19.2501\n",
            "Epoch 19/50\n",
            "\u001b[1m1041/1041\u001b[0m \u001b[32m━━━━━━━━━━━━━━━━━━━━\u001b[0m\u001b[37m\u001b[0m \u001b[1m2s\u001b[0m 2ms/step - loss: 19.1755 - mae: 19.1755\n",
            "Epoch 20/50\n",
            "\u001b[1m1041/1041\u001b[0m \u001b[32m━━━━━━━━━━━━━━━━━━━━\u001b[0m\u001b[37m\u001b[0m \u001b[1m2s\u001b[0m 2ms/step - loss: 19.1825 - mae: 19.1825\n",
            "Epoch 21/50\n",
            "\u001b[1m1041/1041\u001b[0m \u001b[32m━━━━━━━━━━━━━━━━━━━━\u001b[0m\u001b[37m\u001b[0m \u001b[1m2s\u001b[0m 2ms/step - loss: 19.0465 - mae: 19.0465\n",
            "Epoch 22/50\n",
            "\u001b[1m1041/1041\u001b[0m \u001b[32m━━━━━━━━━━━━━━━━━━━━\u001b[0m\u001b[37m\u001b[0m \u001b[1m2s\u001b[0m 2ms/step - loss: 18.9476 - mae: 18.9476\n",
            "Epoch 23/50\n",
            "\u001b[1m1041/1041\u001b[0m \u001b[32m━━━━━━━━━━━━━━━━━━━━\u001b[0m\u001b[37m\u001b[0m \u001b[1m2s\u001b[0m 2ms/step - loss: 18.8024 - mae: 18.8024\n",
            "Epoch 24/50\n",
            "\u001b[1m1041/1041\u001b[0m \u001b[32m━━━━━━━━━━━━━━━━━━━━\u001b[0m\u001b[37m\u001b[0m \u001b[1m2s\u001b[0m 2ms/step - loss: 18.8313 - mae: 18.8313\n",
            "Epoch 25/50\n",
            "\u001b[1m1041/1041\u001b[0m \u001b[32m━━━━━━━━━━━━━━━━━━━━\u001b[0m\u001b[37m\u001b[0m \u001b[1m2s\u001b[0m 2ms/step - loss: 18.7385 - mae: 18.7385\n",
            "Epoch 26/50\n",
            "\u001b[1m1041/1041\u001b[0m \u001b[32m━━━━━━━━━━━━━━━━━━━━\u001b[0m\u001b[37m\u001b[0m \u001b[1m2s\u001b[0m 2ms/step - loss: 18.7795 - mae: 18.7795\n",
            "Epoch 27/50\n",
            "\u001b[1m1041/1041\u001b[0m \u001b[32m━━━━━━━━━━━━━━━━━━━━\u001b[0m\u001b[37m\u001b[0m \u001b[1m2s\u001b[0m 2ms/step - loss: 18.6937 - mae: 18.6937\n",
            "Epoch 28/50\n",
            "\u001b[1m1041/1041\u001b[0m \u001b[32m━━━━━━━━━━━━━━━━━━━━\u001b[0m\u001b[37m\u001b[0m \u001b[1m2s\u001b[0m 2ms/step - loss: 18.5356 - mae: 18.5356\n",
            "Epoch 29/50\n",
            "\u001b[1m1041/1041\u001b[0m \u001b[32m━━━━━━━━━━━━━━━━━━━━\u001b[0m\u001b[37m\u001b[0m \u001b[1m2s\u001b[0m 2ms/step - loss: 18.5638 - mae: 18.5638\n",
            "Epoch 30/50\n",
            "\u001b[1m1041/1041\u001b[0m \u001b[32m━━━━━━━━━━━━━━━━━━━━\u001b[0m\u001b[37m\u001b[0m \u001b[1m3s\u001b[0m 2ms/step - loss: 18.5243 - mae: 18.5243\n",
            "Epoch 31/50\n",
            "\u001b[1m1041/1041\u001b[0m \u001b[32m━━━━━━━━━━━━━━━━━━━━\u001b[0m\u001b[37m\u001b[0m \u001b[1m3s\u001b[0m 2ms/step - loss: 18.3122 - mae: 18.3122\n",
            "Epoch 32/50\n",
            "\u001b[1m1041/1041\u001b[0m \u001b[32m━━━━━━━━━━━━━━━━━━━━\u001b[0m\u001b[37m\u001b[0m \u001b[1m3s\u001b[0m 2ms/step - loss: 18.4105 - mae: 18.4105\n",
            "Epoch 33/50\n",
            "\u001b[1m1041/1041\u001b[0m \u001b[32m━━━━━━━━━━━━━━━━━━━━\u001b[0m\u001b[37m\u001b[0m \u001b[1m3s\u001b[0m 2ms/step - loss: 18.3405 - mae: 18.3405\n",
            "Epoch 34/50\n",
            "\u001b[1m1041/1041\u001b[0m \u001b[32m━━━━━━━━━━━━━━━━━━━━\u001b[0m\u001b[37m\u001b[0m \u001b[1m2s\u001b[0m 2ms/step - loss: 18.3578 - mae: 18.3578\n",
            "Epoch 35/50\n",
            "\u001b[1m1041/1041\u001b[0m \u001b[32m━━━━━━━━━━━━━━━━━━━━\u001b[0m\u001b[37m\u001b[0m \u001b[1m2s\u001b[0m 2ms/step - loss: 18.2789 - mae: 18.2789\n",
            "Epoch 36/50\n",
            "\u001b[1m1041/1041\u001b[0m \u001b[32m━━━━━━━━━━━━━━━━━━━━\u001b[0m\u001b[37m\u001b[0m \u001b[1m3s\u001b[0m 2ms/step - loss: 18.2380 - mae: 18.2380\n",
            "Epoch 37/50\n",
            "\u001b[1m1041/1041\u001b[0m \u001b[32m━━━━━━━━━━━━━━━━━━━━\u001b[0m\u001b[37m\u001b[0m \u001b[1m3s\u001b[0m 2ms/step - loss: 18.1856 - mae: 18.1856\n",
            "Epoch 38/50\n",
            "\u001b[1m1041/1041\u001b[0m \u001b[32m━━━━━━━━━━━━━━━━━━━━\u001b[0m\u001b[37m\u001b[0m \u001b[1m2s\u001b[0m 2ms/step - loss: 18.1317 - mae: 18.1317\n",
            "Epoch 39/50\n",
            "\u001b[1m1041/1041\u001b[0m \u001b[32m━━━━━━━━━━━━━━━━━━━━\u001b[0m\u001b[37m\u001b[0m \u001b[1m2s\u001b[0m 2ms/step - loss: 18.1487 - mae: 18.1487\n",
            "Epoch 40/50\n",
            "\u001b[1m1041/1041\u001b[0m \u001b[32m━━━━━━━━━━━━━━━━━━━━\u001b[0m\u001b[37m\u001b[0m \u001b[1m2s\u001b[0m 2ms/step - loss: 18.0623 - mae: 18.0623\n",
            "Epoch 41/50\n",
            "\u001b[1m1041/1041\u001b[0m \u001b[32m━━━━━━━━━━━━━━━━━━━━\u001b[0m\u001b[37m\u001b[0m \u001b[1m2s\u001b[0m 2ms/step - loss: 18.0509 - mae: 18.0509\n",
            "Epoch 42/50\n",
            "\u001b[1m1041/1041\u001b[0m \u001b[32m━━━━━━━━━━━━━━━━━━━━\u001b[0m\u001b[37m\u001b[0m \u001b[1m2s\u001b[0m 2ms/step - loss: 17.9684 - mae: 17.9684\n",
            "Epoch 43/50\n",
            "\u001b[1m1041/1041\u001b[0m \u001b[32m━━━━━━━━━━━━━━━━━━━━\u001b[0m\u001b[37m\u001b[0m \u001b[1m2s\u001b[0m 2ms/step - loss: 18.0194 - mae: 18.0194\n",
            "Epoch 44/50\n",
            "\u001b[1m1041/1041\u001b[0m \u001b[32m━━━━━━━━━━━━━━━━━━━━\u001b[0m\u001b[37m\u001b[0m \u001b[1m2s\u001b[0m 2ms/step - loss: 18.0600 - mae: 18.0600\n",
            "Epoch 45/50\n",
            "\u001b[1m1041/1041\u001b[0m \u001b[32m━━━━━━━━━━━━━━━━━━━━\u001b[0m\u001b[37m\u001b[0m \u001b[1m2s\u001b[0m 2ms/step - loss: 18.0195 - mae: 18.0195\n",
            "Epoch 46/50\n",
            "\u001b[1m1041/1041\u001b[0m \u001b[32m━━━━━━━━━━━━━━━━━━━━\u001b[0m\u001b[37m\u001b[0m \u001b[1m2s\u001b[0m 2ms/step - loss: 18.0038 - mae: 18.0038\n",
            "Epoch 47/50\n",
            "\u001b[1m1041/1041\u001b[0m \u001b[32m━━━━━━━━━━━━━━━━━━━━\u001b[0m\u001b[37m\u001b[0m \u001b[1m2s\u001b[0m 2ms/step - loss: 17.9475 - mae: 17.9475\n",
            "Epoch 48/50\n",
            "\u001b[1m1041/1041\u001b[0m \u001b[32m━━━━━━━━━━━━━━━━━━━━\u001b[0m\u001b[37m\u001b[0m \u001b[1m2s\u001b[0m 2ms/step - loss: 17.9115 - mae: 17.9115\n",
            "Epoch 49/50\n",
            "\u001b[1m1041/1041\u001b[0m \u001b[32m━━━━━━━━━━━━━━━━━━━━\u001b[0m\u001b[37m\u001b[0m \u001b[1m2s\u001b[0m 2ms/step - loss: 17.8076 - mae: 17.8076\n",
            "Epoch 50/50\n",
            "\u001b[1m1041/1041\u001b[0m \u001b[32m━━━━━━━━━━━━━━━━━━━━\u001b[0m\u001b[37m\u001b[0m \u001b[1m2s\u001b[0m 2ms/step - loss: 17.8360 - mae: 17.8360\n"
          ]
        }
      ],
      "source": [
        "tf.random.set_seed(42)\n",
        "\n",
        "## 1. Build the model\n",
        "model2 = tf.keras.Sequential([\n",
        "    tf.keras.Input(shape=(X_train_min_scaled.shape[1],)),\n",
        "    tf.keras.layers.Dense(64, activation= 'relu'),\n",
        "    tf.keras.layers.Dense(32, activation= 'relu'),\n",
        "    tf.keras.layers.Dense(16, activation= 'relu'),\n",
        "    tf.keras.layers.Dense(1, activation= 'linear'),\n",
        "])\n",
        "\n",
        "## 2. Compile the model\n",
        "model2.compile(\n",
        "    optimizer = tf.keras.optimizers.Adam(learning_rate= 0.01),\n",
        "    loss = tf.keras.losses.mae,\n",
        "    metrics = ['mae']\n",
        ")\n",
        "\n",
        "## 3. Fit the model with training data\n",
        "model2_history = model2.fit(X_train_min_scaled, y_train, epochs = 50, batch_size = 16)"
      ]
    },
    {
      "cell_type": "code",
      "execution_count": null,
      "metadata": {
        "id": "WRhjshkuDaj4",
        "outputId": "d7c6b401-0da7-4f0e-bc05-bbf5ec9ddb08"
      },
      "outputs": [
        {
          "data": {
            "text/plain": [
              "<Axes: >"
            ]
          },
          "execution_count": 25,
          "metadata": {},
          "output_type": "execute_result"
        },
        {
          "data": {
            "image/png": "[encoded data removed]",
            "text/plain": [
              "<Figure size 640x480 with 1 Axes>"
            ]
          },
          "metadata": {},
          "output_type": "display_data"
        }
      ],
      "source": [
        "pd.DataFrame(model2_history.history).plot()"
      ]
    },
    {
      "cell_type": "code",
      "execution_count": null,
      "metadata": {
        "id": "O6Qbi2Y_Daj4",
        "outputId": "be600724-d1b2-400f-b053-0eb9b61fb66c"
      },
      "outputs": [
        {
          "name": "stdout",
          "output_type": "stream",
          "text": [
            "\u001b[1m257/257\u001b[0m \u001b[32m━━━━━━━━━━━━━━━━━━━━\u001b[0m\u001b[37m\u001b[0m \u001b[1m1s\u001b[0m 3ms/step\n"
          ]
        },
        {
          "data": {
            "text/plain": [
              "0.8953857410170896"
            ]
          },
          "execution_count": 26,
          "metadata": {},
          "output_type": "execute_result"
        }
      ],
      "source": [
        "y_pred = model2.predict(X_test_min_scaled)\n",
        "r2_score(y_pred, y_test)"
      ]
    },
    {
      "cell_type": "markdown",
      "metadata": {
        "id": "070MTVdwDaj4"
      },
      "source": [
        "### lets try by increasing lr to 0.1"
      ]
    },
    {
      "cell_type": "code",
      "execution_count": null,
      "metadata": {
        "id": "xQD5POEgDaj4",
        "outputId": "e1843769-dcba-4d1a-d22d-5a0a69102bcb"
      },
      "outputs": [
        {
          "name": "stdout",
          "output_type": "stream",
          "text": [
            "Epoch 1/50\n",
            "\u001b[1m1041/1041\u001b[0m \u001b[32m━━━━━━━━━━━━━━━━━━━━\u001b[0m\u001b[37m\u001b[0m \u001b[1m5s\u001b[0m 3ms/step - loss: 42.0718 - mae: 42.0718\n",
            "Epoch 2/50\n",
            "\u001b[1m1041/1041\u001b[0m \u001b[32m━━━━━━━━━━━━━━━━━━━━\u001b[0m\u001b[37m\u001b[0m \u001b[1m3s\u001b[0m 3ms/step - loss: 30.2159 - mae: 30.2159\n",
            "Epoch 3/50\n",
            "\u001b[1m1041/1041\u001b[0m \u001b[32m━━━━━━━━━━━━━━━━━━━━\u001b[0m\u001b[37m\u001b[0m \u001b[1m3s\u001b[0m 3ms/step - loss: 25.1565 - mae: 25.1565\n",
            "Epoch 4/50\n",
            "\u001b[1m1041/1041\u001b[0m \u001b[32m━━━━━━━━━━━━━━━━━━━━\u001b[0m\u001b[37m\u001b[0m \u001b[1m2s\u001b[0m 2ms/step - loss: 22.8062 - mae: 22.8062\n",
            "Epoch 5/50\n",
            "\u001b[1m1041/1041\u001b[0m \u001b[32m━━━━━━━━━━━━━━━━━━━━\u001b[0m\u001b[37m\u001b[0m \u001b[1m2s\u001b[0m 2ms/step - loss: 21.8315 - mae: 21.8315\n",
            "Epoch 6/50\n",
            "\u001b[1m1041/1041\u001b[0m \u001b[32m━━━━━━━━━━━━━━━━━━━━\u001b[0m\u001b[37m\u001b[0m \u001b[1m4s\u001b[0m 3ms/step - loss: 20.8490 - mae: 20.8490\n",
            "Epoch 7/50\n",
            "\u001b[1m1041/1041\u001b[0m \u001b[32m━━━━━━━━━━━━━━━━━━━━\u001b[0m\u001b[37m\u001b[0m \u001b[1m3s\u001b[0m 3ms/step - loss: 21.0657 - mae: 21.0657\n",
            "Epoch 8/50\n",
            "\u001b[1m1041/1041\u001b[0m \u001b[32m━━━━━━━━━━━━━━━━━━━━\u001b[0m\u001b[37m\u001b[0m \u001b[1m3s\u001b[0m 3ms/step - loss: 20.7830 - mae: 20.7830\n",
            "Epoch 9/50\n",
            "\u001b[1m1041/1041\u001b[0m \u001b[32m━━━━━━━━━━━━━━━━━━━━\u001b[0m\u001b[37m\u001b[0m \u001b[1m2s\u001b[0m 2ms/step - loss: 20.6661 - mae: 20.6661\n",
            "Epoch 10/50\n",
            "\u001b[1m1041/1041\u001b[0m \u001b[32m━━━━━━━━━━━━━━━━━━━━\u001b[0m\u001b[37m\u001b[0m \u001b[1m2s\u001b[0m 2ms/step - loss: 20.5155 - mae: 20.5155\n",
            "Epoch 11/50\n",
            "\u001b[1m1041/1041\u001b[0m \u001b[32m━━━━━━━━━━━━━━━━━━━━\u001b[0m\u001b[37m\u001b[0m \u001b[1m2s\u001b[0m 2ms/step - loss: 20.5157 - mae: 20.5157\n",
            "Epoch 12/50\n",
            "\u001b[1m1041/1041\u001b[0m \u001b[32m━━━━━━━━━━━━━━━━━━━━\u001b[0m\u001b[37m\u001b[0m \u001b[1m2s\u001b[0m 2ms/step - loss: 20.0014 - mae: 20.0014\n",
            "Epoch 13/50\n",
            "\u001b[1m1041/1041\u001b[0m \u001b[32m━━━━━━━━━━━━━━━━━━━━\u001b[0m\u001b[37m\u001b[0m \u001b[1m2s\u001b[0m 2ms/step - loss: 20.1575 - mae: 20.1575\n",
            "Epoch 14/50\n",
            "\u001b[1m1041/1041\u001b[0m \u001b[32m━━━━━━━━━━━━━━━━━━━━\u001b[0m\u001b[37m\u001b[0m \u001b[1m2s\u001b[0m 2ms/step - loss: 19.8334 - mae: 19.8334\n",
            "Epoch 15/50\n",
            "\u001b[1m1041/1041\u001b[0m \u001b[32m━━━━━━━━━━━━━━━━━━━━\u001b[0m\u001b[37m\u001b[0m \u001b[1m2s\u001b[0m 2ms/step - loss: 19.9792 - mae: 19.9792\n",
            "Epoch 16/50\n",
            "\u001b[1m1041/1041\u001b[0m \u001b[32m━━━━━━━━━━━━━━━━━━━━\u001b[0m\u001b[37m\u001b[0m \u001b[1m2s\u001b[0m 2ms/step - loss: 19.8716 - mae: 19.8716\n",
            "Epoch 17/50\n",
            "\u001b[1m1041/1041\u001b[0m \u001b[32m━━━━━━━━━━━━━━━━━━━━\u001b[0m\u001b[37m\u001b[0m \u001b[1m2s\u001b[0m 2ms/step - loss: 20.1397 - mae: 20.1397\n",
            "Epoch 18/50\n",
            "\u001b[1m1041/1041\u001b[0m \u001b[32m━━━━━━━━━━━━━━━━━━━━\u001b[0m\u001b[37m\u001b[0m \u001b[1m2s\u001b[0m 2ms/step - loss: 19.8571 - mae: 19.8571\n",
            "Epoch 19/50\n",
            "\u001b[1m1041/1041\u001b[0m \u001b[32m━━━━━━━━━━━━━━━━━━━━\u001b[0m\u001b[37m\u001b[0m \u001b[1m2s\u001b[0m 2ms/step - loss: 19.6321 - mae: 19.6321\n",
            "Epoch 20/50\n",
            "\u001b[1m1041/1041\u001b[0m \u001b[32m━━━━━━━━━━━━━━━━━━━━\u001b[0m\u001b[37m\u001b[0m \u001b[1m2s\u001b[0m 2ms/step - loss: 20.1583 - mae: 20.1583\n",
            "Epoch 21/50\n",
            "\u001b[1m1041/1041\u001b[0m \u001b[32m━━━━━━━━━━━━━━━━━━━━\u001b[0m\u001b[37m\u001b[0m \u001b[1m2s\u001b[0m 2ms/step - loss: 20.7648 - mae: 20.7648\n",
            "Epoch 22/50\n",
            "\u001b[1m1041/1041\u001b[0m \u001b[32m━━━━━━━━━━━━━━━━━━━━\u001b[0m\u001b[37m\u001b[0m \u001b[1m2s\u001b[0m 2ms/step - loss: 19.7846 - mae: 19.7846\n",
            "Epoch 23/50\n",
            "\u001b[1m1041/1041\u001b[0m \u001b[32m━━━━━━━━━━━━━━━━━━━━\u001b[0m\u001b[37m\u001b[0m \u001b[1m2s\u001b[0m 2ms/step - loss: 19.7840 - mae: 19.7840\n",
            "Epoch 24/50\n",
            "\u001b[1m1041/1041\u001b[0m \u001b[32m━━━━━━━━━━━━━━━━━━━━\u001b[0m\u001b[37m\u001b[0m \u001b[1m2s\u001b[0m 2ms/step - loss: 20.1681 - mae: 20.1681\n",
            "Epoch 25/50\n",
            "\u001b[1m1041/1041\u001b[0m \u001b[32m━━━━━━━━━━━━━━━━━━━━\u001b[0m\u001b[37m\u001b[0m \u001b[1m2s\u001b[0m 2ms/step - loss: 19.7105 - mae: 19.7105\n",
            "Epoch 26/50\n",
            "\u001b[1m1041/1041\u001b[0m \u001b[32m━━━━━━━━━━━━━━━━━━━━\u001b[0m\u001b[37m\u001b[0m \u001b[1m2s\u001b[0m 2ms/step - loss: 21.0231 - mae: 21.0231\n",
            "Epoch 27/50\n",
            "\u001b[1m1041/1041\u001b[0m \u001b[32m━━━━━━━━━━━━━━━━━━━━\u001b[0m\u001b[37m\u001b[0m \u001b[1m2s\u001b[0m 2ms/step - loss: 20.1271 - mae: 20.1271\n",
            "Epoch 28/50\n",
            "\u001b[1m1041/1041\u001b[0m \u001b[32m━━━━━━━━━━━━━━━━━━━━\u001b[0m\u001b[37m\u001b[0m \u001b[1m2s\u001b[0m 2ms/step - loss: 19.7297 - mae: 19.7297\n",
            "Epoch 29/50\n",
            "\u001b[1m1041/1041\u001b[0m \u001b[32m━━━━━━━━━━━━━━━━━━━━\u001b[0m\u001b[37m\u001b[0m \u001b[1m2s\u001b[0m 2ms/step - loss: 20.0956 - mae: 20.0956\n",
            "Epoch 30/50\n",
            "\u001b[1m1041/1041\u001b[0m \u001b[32m━━━━━━━━━━━━━━━━━━━━\u001b[0m\u001b[37m\u001b[0m \u001b[1m2s\u001b[0m 2ms/step - loss: 22.2633 - mae: 22.2633\n",
            "Epoch 31/50\n",
            "\u001b[1m1041/1041\u001b[0m \u001b[32m━━━━━━━━━━━━━━━━━━━━\u001b[0m\u001b[37m\u001b[0m \u001b[1m2s\u001b[0m 2ms/step - loss: 21.6677 - mae: 21.6677\n",
            "Epoch 32/50\n",
            "\u001b[1m1041/1041\u001b[0m \u001b[32m━━━━━━━━━━━━━━━━━━━━\u001b[0m\u001b[37m\u001b[0m \u001b[1m2s\u001b[0m 2ms/step - loss: 20.4094 - mae: 20.4094\n",
            "Epoch 33/50\n",
            "\u001b[1m1041/1041\u001b[0m \u001b[32m━━━━━━━━━━━━━━━━━━━━\u001b[0m\u001b[37m\u001b[0m \u001b[1m2s\u001b[0m 2ms/step - loss: 22.5569 - mae: 22.5569\n",
            "Epoch 34/50\n",
            "\u001b[1m1041/1041\u001b[0m \u001b[32m━━━━━━━━━━━━━━━━━━━━\u001b[0m\u001b[37m\u001b[0m \u001b[1m2s\u001b[0m 2ms/step - loss: 20.3987 - mae: 20.3987\n",
            "Epoch 35/50\n",
            "\u001b[1m1041/1041\u001b[0m \u001b[32m━━━━━━━━━━━━━━━━━━━━\u001b[0m\u001b[37m\u001b[0m \u001b[1m2s\u001b[0m 2ms/step - loss: 20.4404 - mae: 20.4404\n",
            "Epoch 36/50\n",
            "\u001b[1m1041/1041\u001b[0m \u001b[32m━━━━━━━━━━━━━━━━━━━━\u001b[0m\u001b[37m\u001b[0m \u001b[1m2s\u001b[0m 2ms/step - loss: 20.2507 - mae: 20.2507\n",
            "Epoch 37/50\n",
            "\u001b[1m1041/1041\u001b[0m \u001b[32m━━━━━━━━━━━━━━━━━━━━\u001b[0m\u001b[37m\u001b[0m \u001b[1m2s\u001b[0m 2ms/step - loss: 22.1470 - mae: 22.1470\n",
            "Epoch 38/50\n",
            "\u001b[1m1041/1041\u001b[0m \u001b[32m━━━━━━━━━━━━━━━━━━━━\u001b[0m\u001b[37m\u001b[0m \u001b[1m2s\u001b[0m 2ms/step - loss: 22.0381 - mae: 22.0381\n",
            "Epoch 39/50\n",
            "\u001b[1m1041/1041\u001b[0m \u001b[32m━━━━━━━━━━━━━━━━━━━━\u001b[0m\u001b[37m\u001b[0m \u001b[1m2s\u001b[0m 2ms/step - loss: 19.9747 - mae: 19.9747\n",
            "Epoch 40/50\n",
            "\u001b[1m1041/1041\u001b[0m \u001b[32m━━━━━━━━━━━━━━━━━━━━\u001b[0m\u001b[37m\u001b[0m \u001b[1m2s\u001b[0m 2ms/step - loss: 20.0973 - mae: 20.0973\n",
            "Epoch 41/50\n",
            "\u001b[1m1041/1041\u001b[0m \u001b[32m━━━━━━━━━━━━━━━━━━━━\u001b[0m\u001b[37m\u001b[0m \u001b[1m2s\u001b[0m 2ms/step - loss: 20.1836 - mae: 20.1836\n",
            "Epoch 42/50\n",
            "\u001b[1m1041/1041\u001b[0m \u001b[32m━━━━━━━━━━━━━━━━━━━━\u001b[0m\u001b[37m\u001b[0m \u001b[1m2s\u001b[0m 2ms/step - loss: 20.6473 - mae: 20.6473\n",
            "Epoch 43/50\n",
            "\u001b[1m1041/1041\u001b[0m \u001b[32m━━━━━━━━━━━━━━━━━━━━\u001b[0m\u001b[37m\u001b[0m \u001b[1m2s\u001b[0m 2ms/step - loss: 20.1798 - mae: 20.1798\n",
            "Epoch 44/50\n",
            "\u001b[1m1041/1041\u001b[0m \u001b[32m━━━━━━━━━━━━━━━━━━━━\u001b[0m\u001b[37m\u001b[0m \u001b[1m2s\u001b[0m 2ms/step - loss: 25.9577 - mae: 25.9577\n",
            "Epoch 45/50\n",
            "\u001b[1m1041/1041\u001b[0m \u001b[32m━━━━━━━━━━━━━━━━━━━━\u001b[0m\u001b[37m\u001b[0m \u001b[1m2s\u001b[0m 2ms/step - loss: 24.3960 - mae: 24.3960\n",
            "Epoch 46/50\n",
            "\u001b[1m1041/1041\u001b[0m \u001b[32m━━━━━━━━━━━━━━━━━━━━\u001b[0m\u001b[37m\u001b[0m \u001b[1m2s\u001b[0m 2ms/step - loss: 22.9255 - mae: 22.9255\n",
            "Epoch 47/50\n",
            "\u001b[1m1041/1041\u001b[0m \u001b[32m━━━━━━━━━━━━━━━━━━━━\u001b[0m\u001b[37m\u001b[0m \u001b[1m2s\u001b[0m 2ms/step - loss: 22.9186 - mae: 22.9186\n",
            "Epoch 48/50\n",
            "\u001b[1m1041/1041\u001b[0m \u001b[32m━━━━━━━━━━━━━━━━━━━━\u001b[0m\u001b[37m\u001b[0m \u001b[1m2s\u001b[0m 2ms/step - loss: 23.3828 - mae: 23.3828\n",
            "Epoch 49/50\n",
            "\u001b[1m1041/1041\u001b[0m \u001b[32m━━━━━━━━━━━━━━━━━━━━\u001b[0m\u001b[37m\u001b[0m \u001b[1m2s\u001b[0m 2ms/step - loss: 22.7537 - mae: 22.7537\n",
            "Epoch 50/50\n",
            "\u001b[1m1041/1041\u001b[0m \u001b[32m━━━━━━━━━━━━━━━━━━━━\u001b[0m\u001b[37m\u001b[0m \u001b[1m2s\u001b[0m 2ms/step - loss: 23.2922 - mae: 23.2922\n"
          ]
        }
      ],
      "source": [
        "tf.random.set_seed(42)\n",
        "\n",
        "## 1. Build the model\n",
        "model3 = tf.keras.Sequential([\n",
        "    tf.keras.Input(shape=(X_train_min_scaled.shape[1],)),\n",
        "    tf.keras.layers.Dense(64, activation= 'relu'),\n",
        "    tf.keras.layers.Dense(32, activation= 'relu'),\n",
        "    tf.keras.layers.Dense(16, activation= 'relu'),\n",
        "    tf.keras.layers.Dense(1, activation= 'linear'),\n",
        "])\n",
        "\n",
        "## 2. Compile the model\n",
        "model3.compile(\n",
        "    optimizer = tf.keras.optimizers.Adam(learning_rate= 0.1),\n",
        "    loss = tf.keras.losses.mae,\n",
        "    metrics = ['mae']\n",
        ")\n",
        "\n",
        "## 3. Fit the model with training data\n",
        "model3_history = model3.fit(X_train_min_scaled, y_train, epochs = 50, batch_size = 16)"
      ]
    },
    {
      "cell_type": "code",
      "execution_count": null,
      "metadata": {
        "id": "9GfEhd4dDaj5",
        "outputId": "0fa871c3-c26e-4f6e-a12c-a8dfc17bf421"
      },
      "outputs": [
        {
          "data": {
            "text/plain": [
              "<Axes: >"
            ]
          },
          "execution_count": 30,
          "metadata": {},
          "output_type": "execute_result"
        },
        {
          "data": {
            "image/png": "[encoded data removed]",
            "text/plain": [
              "<Figure size 640x480 with 1 Axes>"
            ]
          },
          "metadata": {},
          "output_type": "display_data"
        }
      ],
      "source": [
        "pd.DataFrame(model3_history.history).plot()"
      ]
    },
    {
      "cell_type": "code",
      "execution_count": null,
      "metadata": {
        "id": "NC5LonlkDaj5",
        "outputId": "a9e68ec5-4711-49f9-e4f7-a3d5106242f3"
      },
      "outputs": [
        {
          "name": "stdout",
          "output_type": "stream",
          "text": [
            "\u001b[1m257/257\u001b[0m \u001b[32m━━━━━━━━━━━━━━━━━━━━\u001b[0m\u001b[37m\u001b[0m \u001b[1m1s\u001b[0m 3ms/step\n"
          ]
        },
        {
          "data": {
            "text/plain": [
              "0.8838863584342922"
            ]
          },
          "execution_count": 32,
          "metadata": {},
          "output_type": "execute_result"
        }
      ],
      "source": [
        "y_pred = model3.predict(X_test_min_scaled)\n",
        "r2_score(y_pred, y_test)"
      ]
    },
    {
      "cell_type": "markdown",
      "metadata": {
        "id": "1SWGgFoPDaj5"
      },
      "source": [
        "### Since Our loss is very low at 15 to 20 epochs we will add callbacks for early stopping and by increasing batch size as 32 it will model to fit faster"
      ]
    },
    {
      "cell_type": "code",
      "execution_count": null,
      "metadata": {
        "id": "3yQrhwwQDaj5",
        "outputId": "7f895639-7b8e-49ea-8a64-1d0e226b4b98"
      },
      "outputs": [
        {
          "name": "stdout",
          "output_type": "stream",
          "text": [
            "Epoch 1/50\n",
            "\u001b[1m521/521\u001b[0m \u001b[32m━━━━━━━━━━━━━━━━━━━━\u001b[0m\u001b[37m\u001b[0m \u001b[1m4s\u001b[0m 3ms/step - loss: 43.6041 - mae: 43.6041\n",
            "Epoch 2/50\n",
            "\u001b[1m521/521\u001b[0m \u001b[32m━━━━━━━━━━━━━━━━━━━━\u001b[0m\u001b[37m\u001b[0m \u001b[1m1s\u001b[0m 3ms/step - loss: 31.1685 - mae: 31.1685\n",
            "Epoch 3/50\n",
            "\u001b[1m521/521\u001b[0m \u001b[32m━━━━━━━━━━━━━━━━━━━━\u001b[0m\u001b[37m\u001b[0m \u001b[1m1s\u001b[0m 3ms/step - loss: 26.2819 - mae: 26.2819\n",
            "Epoch 4/50\n",
            "\u001b[1m521/521\u001b[0m \u001b[32m━━━━━━━━━━━━━━━━━━━━\u001b[0m\u001b[37m\u001b[0m \u001b[1m1s\u001b[0m 3ms/step - loss: 23.9521 - mae: 23.9521\n",
            "Epoch 5/50\n",
            "\u001b[1m521/521\u001b[0m \u001b[32m━━━━━━━━━━━━━━━━━━━━\u001b[0m\u001b[37m\u001b[0m \u001b[1m2s\u001b[0m 3ms/step - loss: 21.7043 - mae: 21.7043\n",
            "Epoch 6/50\n",
            "\u001b[1m521/521\u001b[0m \u001b[32m━━━━━━━━━━━━━━━━━━━━\u001b[0m\u001b[37m\u001b[0m \u001b[1m1s\u001b[0m 3ms/step - loss: 21.2479 - mae: 21.2479\n",
            "Epoch 7/50\n",
            "\u001b[1m521/521\u001b[0m \u001b[32m━━━━━━━━━━━━━━━━━━━━\u001b[0m\u001b[37m\u001b[0m \u001b[1m1s\u001b[0m 2ms/step - loss: 20.9908 - mae: 20.9908\n",
            "Epoch 8/50\n",
            "\u001b[1m521/521\u001b[0m \u001b[32m━━━━━━━━━━━━━━━━━━━━\u001b[0m\u001b[37m\u001b[0m \u001b[1m1s\u001b[0m 2ms/step - loss: 20.4412 - mae: 20.4412\n",
            "Epoch 9/50\n",
            "\u001b[1m521/521\u001b[0m \u001b[32m━━━━━━━━━━━━━━━━━━━━\u001b[0m\u001b[37m\u001b[0m \u001b[1m1s\u001b[0m 2ms/step - loss: 20.5678 - mae: 20.5678\n",
            "Epoch 10/50\n",
            "\u001b[1m521/521\u001b[0m \u001b[32m━━━━━━━━━━━━━━━━━━━━\u001b[0m\u001b[37m\u001b[0m \u001b[1m1s\u001b[0m 2ms/step - loss: 20.7973 - mae: 20.7973\n",
            "Epoch 11/50\n",
            "\u001b[1m521/521\u001b[0m \u001b[32m━━━━━━━━━━━━━━━━━━━━\u001b[0m\u001b[37m\u001b[0m \u001b[1m1s\u001b[0m 2ms/step - loss: 20.3818 - mae: 20.3818\n",
            "Epoch 12/50\n",
            "\u001b[1m521/521\u001b[0m \u001b[32m━━━━━━━━━━━━━━━━━━━━\u001b[0m\u001b[37m\u001b[0m \u001b[1m1s\u001b[0m 2ms/step - loss: 19.9231 - mae: 19.9231\n",
            "Epoch 13/50\n",
            "\u001b[1m521/521\u001b[0m \u001b[32m━━━━━━━━━━━━━━━━━━━━\u001b[0m\u001b[37m\u001b[0m \u001b[1m1s\u001b[0m 2ms/step - loss: 20.5021 - mae: 20.5021\n",
            "Epoch 14/50\n",
            "\u001b[1m521/521\u001b[0m \u001b[32m━━━━━━━━━━━━━━━━━━━━\u001b[0m\u001b[37m\u001b[0m \u001b[1m1s\u001b[0m 2ms/step - loss: 19.7301 - mae: 19.7301\n",
            "Epoch 15/50\n",
            "\u001b[1m521/521\u001b[0m \u001b[32m━━━━━━━━━━━━━━━━━━━━\u001b[0m\u001b[37m\u001b[0m \u001b[1m1s\u001b[0m 2ms/step - loss: 19.6317 - mae: 19.6317\n",
            "Epoch 16/50\n",
            "\u001b[1m521/521\u001b[0m \u001b[32m━━━━━━━━━━━━━━━━━━━━\u001b[0m\u001b[37m\u001b[0m \u001b[1m1s\u001b[0m 2ms/step - loss: 20.5510 - mae: 20.5510\n",
            "Epoch 17/50\n",
            "\u001b[1m521/521\u001b[0m \u001b[32m━━━━━━━━━━━━━━━━━━━━\u001b[0m\u001b[37m\u001b[0m \u001b[1m1s\u001b[0m 2ms/step - loss: 20.5205 - mae: 20.5205\n",
            "Epoch 18/50\n",
            "\u001b[1m521/521\u001b[0m \u001b[32m━━━━━━━━━━━━━━━━━━━━\u001b[0m\u001b[37m\u001b[0m \u001b[1m1s\u001b[0m 2ms/step - loss: 20.2314 - mae: 20.2314\n",
            "Epoch 19/50\n",
            "\u001b[1m521/521\u001b[0m \u001b[32m━━━━━━━━━━━━━━━━━━━━\u001b[0m\u001b[37m\u001b[0m \u001b[1m1s\u001b[0m 2ms/step - loss: 19.5696 - mae: 19.5696\n"
          ]
        }
      ],
      "source": [
        "tf.random.set_seed(42)\n",
        "\n",
        "## 1. Build the model\n",
        "model4 = tf.keras.Sequential([\n",
        "    tf.keras.Input(shape=(X_train_min_scaled.shape[1],)),\n",
        "    tf.keras.layers.Dense(64, activation= 'relu'),\n",
        "    tf.keras.layers.Dense(32, activation= 'relu'),\n",
        "    tf.keras.layers.Dense(16, activation= 'relu'),\n",
        "    tf.keras.layers.Dense(1, activation= 'linear'),\n",
        "])\n",
        "\n",
        "## 2. Compile the model\n",
        "model4.compile(\n",
        "    optimizer = tf.keras.optimizers.Adam(learning_rate= 0.1),\n",
        "    loss = tf.keras.losses.mae,\n",
        "    metrics = ['mae']\n",
        ")\n",
        "\n",
        "callback = tf.keras.callbacks.EarlyStopping(\n",
        "    monitor='loss',\n",
        "    patience=5,\n",
        "    restore_best_weights = True\n",
        ")\n",
        "## 3. Fit the model with training data\n",
        "model4_history = model4.fit(X_train_min_scaled, y_train, epochs = 50, batch_size = 32,  callbacks=[callback])"
      ]
    },
    {
      "cell_type": "code",
      "execution_count": null,
      "metadata": {
        "id": "Eux4yJBWDaj6",
        "outputId": "78ff6194-8ba7-454d-97e4-94c6d4b656a6"
      },
      "outputs": [
        {
          "data": {
            "text/plain": [
              "<Axes: >"
            ]
          },
          "execution_count": 37,
          "metadata": {},
          "output_type": "execute_result"
        },
        {
          "data": {
            "image/png": "[encoded data removed]",
            "text/plain": [
              "<Figure size 640x480 with 1 Axes>"
            ]
          },
          "metadata": {},
          "output_type": "display_data"
        }
      ],
      "source": [
        "pd.DataFrame(model4_history.history).plot()"
      ]
    },
    {
      "cell_type": "code",
      "execution_count": null,
      "metadata": {
        "id": "BJoDHO32DakA",
        "outputId": "f439cbaa-6e6f-4171-805a-06e4158fb050"
      },
      "outputs": [
        {
          "name": "stdout",
          "output_type": "stream",
          "text": [
            "\u001b[1m257/257\u001b[0m \u001b[32m━━━━━━━━━━━━━━━━━━━━\u001b[0m\u001b[37m\u001b[0m \u001b[1m0s\u001b[0m 1ms/step\n"
          ]
        },
        {
          "data": {
            "text/plain": [
              "0.8935048185295449"
            ]
          },
          "execution_count": 38,
          "metadata": {},
          "output_type": "execute_result"
        }
      ],
      "source": [
        "y_pred = model4.predict(X_test_min_scaled)\n",
        "r2_score(y_pred, y_test)"
      ]
    },
    {
      "cell_type": "code",
      "source": [],
      "metadata": {
        "id": "-WyHwdgdEHGS"
      },
      "execution_count": null,
      "outputs": []
    }
  ],
  "metadata": {
    "kernelspec": {
      "display_name": "deepenv",
      "language": "python",
      "name": "python3"
    },
    "language_info": {
      "codemirror_mode": {
        "name": "ipython",
        "version": 3
      },
      "file_extension": ".py",
      "mimetype": "text/x-python",
      "name": "python",
      "nbconvert_exporter": "python",
      "pygments_lexer": "ipython3",
      "version": "3.12.3"
    },
    "colab": {
      "provenance": [],
      "include_colab_link": true
    }
  },
  "nbformat": 4,
  "nbformat_minor": 0
}